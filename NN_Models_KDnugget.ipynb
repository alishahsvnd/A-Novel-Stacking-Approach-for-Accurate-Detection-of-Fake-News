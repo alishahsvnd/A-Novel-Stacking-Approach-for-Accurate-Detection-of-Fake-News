{
 "cells": [
  {
   "cell_type": "code",
   "execution_count": 2,
   "id": "7f499049",
   "metadata": {
    "execution": {
     "iopub.execute_input": "2021-07-18T18:57:51.682735Z",
     "iopub.status.busy": "2021-07-18T18:57:51.681235Z",
     "iopub.status.idle": "2021-07-18T18:57:57.062499Z",
     "shell.execute_reply": "2021-07-18T18:57:57.061424Z",
     "shell.execute_reply.started": "2021-07-18T18:49:17.216524Z"
    },
    "papermill": {
     "duration": 5.405912,
     "end_time": "2021-07-18T18:57:57.062741",
     "exception": false,
     "start_time": "2021-07-18T18:57:51.656829",
     "status": "completed"
    },
    "tags": []
   },
   "outputs": [],
   "source": [
    "import tensorflow as tf\n",
    "from keras.layers import LSTM, GRU, Dense, Embedding, Dropout , Conv1D , GlobalMaxPool1D\n",
    "from keras.preprocessing import text, sequence\n",
    "from keras.models import Sequential\n",
    "from sklearn.model_selection import train_test_split\n",
    "import pandas as pd\n",
    "import numpy as np\n",
    "from keras.utils.data_utils import pad_sequences\n",
    "import string\n",
    "import re\n",
    "import nltk\n",
    "from nltk.tokenize import word_tokenize\n",
    "from nltk.corpus import stopwords\n",
    "import matplotlib.pyplot as plt\n",
    "from keras.models import load_model\n",
    "from sklearn.metrics import f1_score, precision_score, recall_score, accuracy_score\n"
   ]
  },
  {
   "cell_type": "code",
   "execution_count": 3,
   "id": "b02ae120",
   "metadata": {
    "execution": {
     "iopub.execute_input": "2021-07-18T18:57:57.146047Z",
     "iopub.status.busy": "2021-07-18T18:57:57.145436Z",
     "iopub.status.idle": "2021-07-18T18:57:58.476594Z",
     "shell.execute_reply": "2021-07-18T18:57:58.475807Z",
     "shell.execute_reply.started": "2021-07-18T18:49:17.654585Z"
    },
    "papermill": {
     "duration": 1.356147,
     "end_time": "2021-07-18T18:57:58.476722",
     "exception": false,
     "start_time": "2021-07-18T18:57:57.120575",
     "status": "completed"
    },
    "tags": []
   },
   "outputs": [
    {
     "data": {
      "text/html": [
       "<div>\n",
       "<style scoped>\n",
       "    .dataframe tbody tr th:only-of-type {\n",
       "        vertical-align: middle;\n",
       "    }\n",
       "\n",
       "    .dataframe tbody tr th {\n",
       "        vertical-align: top;\n",
       "    }\n",
       "\n",
       "    .dataframe thead th {\n",
       "        text-align: right;\n",
       "    }\n",
       "</style>\n",
       "<table border=\"1\" class=\"dataframe\">\n",
       "  <thead>\n",
       "    <tr style=\"text-align: right;\">\n",
       "      <th></th>\n",
       "      <th>idd</th>\n",
       "      <th>title</th>\n",
       "      <th>text</th>\n",
       "      <th>label</th>\n",
       "    </tr>\n",
       "  </thead>\n",
       "  <tbody>\n",
       "    <tr>\n",
       "      <th>2297</th>\n",
       "      <td>oVh@3GbDzG</td>\n",
       "      <td>Trump Vows Personal Campaign Spending Will Tot...</td>\n",
       "      <td>2016 US Presidential Election ( 45 ) 0 14 0 0 ...</td>\n",
       "      <td>FAKE</td>\n",
       "    </tr>\n",
       "    <tr>\n",
       "      <th>2298</th>\n",
       "      <td>ydS(bOFlM%</td>\n",
       "      <td>WikiLeaks: Neera Tanden describes Clinton shen...</td>\n",
       "      <td>— jewels (@Jewels817) October 28, 2016 \\nNeera...</td>\n",
       "      <td>FAKE</td>\n",
       "    </tr>\n",
       "    <tr>\n",
       "      <th>2299</th>\n",
       "      <td>qKo*nzJz70</td>\n",
       "      <td>No charges after new review of Hillary Clinton...</td>\n",
       "      <td>39   Shoina is a village drowned up to the wai...</td>\n",
       "      <td>FAKE</td>\n",
       "    </tr>\n",
       "    <tr>\n",
       "      <th>2300</th>\n",
       "      <td>y@p(^ymHf&amp;</td>\n",
       "      <td>AIG Quadruples Limits for Terrorism Insurance ...</td>\n",
       "      <td>« on: Today at 08:36:35 PM » AIG Quadruples Li...</td>\n",
       "      <td>FAKE</td>\n",
       "    </tr>\n",
       "    <tr>\n",
       "      <th>2301</th>\n",
       "      <td>@51o%byOAS</td>\n",
       "      <td>Trump Whistles His Dogs</td>\n",
       "      <td>By Gilad Atzmon on November 2, 2016 Jews see i...</td>\n",
       "      <td>FAKE</td>\n",
       "    </tr>\n",
       "    <tr>\n",
       "      <th>...</th>\n",
       "      <td>...</td>\n",
       "      <td>...</td>\n",
       "      <td>...</td>\n",
       "      <td>...</td>\n",
       "    </tr>\n",
       "    <tr>\n",
       "      <th>4589</th>\n",
       "      <td>ukZm6JTO#x</td>\n",
       "      <td>Russia Calls the War Party's Bluff</td>\n",
       "      <td>License DMCA \\nCold War 2.0 has reached unprec...</td>\n",
       "      <td>FAKE</td>\n",
       "    </tr>\n",
       "    <tr>\n",
       "      <th>4590</th>\n",
       "      <td>yu0xKEiapJ</td>\n",
       "      <td>Bernie Sanders: The Democratic primary gave me...</td>\n",
       "      <td>Print \\nSen. Bernie Sanders laid out the ways ...</td>\n",
       "      <td>FAKE</td>\n",
       "    </tr>\n",
       "    <tr>\n",
       "      <th>4591</th>\n",
       "      <td>c4Y370E_9c</td>\n",
       "      <td>Pipeline Police Strip Search Native Girl, Then...</td>\n",
       "      <td>As the pressure to start construction on the D...</td>\n",
       "      <td>FAKE</td>\n",
       "    </tr>\n",
       "    <tr>\n",
       "      <th>4592</th>\n",
       "      <td>bBbeuCUeMH</td>\n",
       "      <td>Currency Crisis: Alasdair MacLeod On The Vexed...</td>\n",
       "      <td>Tweet Home » Gold » Gold News » Currency Crisi...</td>\n",
       "      <td>FAKE</td>\n",
       "    </tr>\n",
       "    <tr>\n",
       "      <th>4593</th>\n",
       "      <td>vE44sWBnd9</td>\n",
       "      <td>Paper Tiger ISIS Digs Into Mosul</td>\n",
       "      <td>Written by Eric Margolis   As a former soldier...</td>\n",
       "      <td>FAKE</td>\n",
       "    </tr>\n",
       "  </tbody>\n",
       "</table>\n",
       "<p>2297 rows × 4 columns</p>\n",
       "</div>"
      ],
      "text/plain": [
       "             idd                                              title  \\\n",
       "2297  oVh@3GbDzG  Trump Vows Personal Campaign Spending Will Tot...   \n",
       "2298  ydS(bOFlM%  WikiLeaks: Neera Tanden describes Clinton shen...   \n",
       "2299  qKo*nzJz70  No charges after new review of Hillary Clinton...   \n",
       "2300  y@p(^ymHf&  AIG Quadruples Limits for Terrorism Insurance ...   \n",
       "2301  @51o%byOAS                            Trump Whistles His Dogs   \n",
       "...          ...                                                ...   \n",
       "4589  ukZm6JTO#x                 Russia Calls the War Party's Bluff   \n",
       "4590  yu0xKEiapJ  Bernie Sanders: The Democratic primary gave me...   \n",
       "4591  c4Y370E_9c  Pipeline Police Strip Search Native Girl, Then...   \n",
       "4592  bBbeuCUeMH  Currency Crisis: Alasdair MacLeod On The Vexed...   \n",
       "4593  vE44sWBnd9                   Paper Tiger ISIS Digs Into Mosul   \n",
       "\n",
       "                                                   text label  \n",
       "2297  2016 US Presidential Election ( 45 ) 0 14 0 0 ...  FAKE  \n",
       "2298  — jewels (@Jewels817) October 28, 2016 \\nNeera...  FAKE  \n",
       "2299  39   Shoina is a village drowned up to the wai...  FAKE  \n",
       "2300  « on: Today at 08:36:35 PM » AIG Quadruples Li...  FAKE  \n",
       "2301  By Gilad Atzmon on November 2, 2016 Jews see i...  FAKE  \n",
       "...                                                 ...   ...  \n",
       "4589  License DMCA \\nCold War 2.0 has reached unprec...  FAKE  \n",
       "4590  Print \\nSen. Bernie Sanders laid out the ways ...  FAKE  \n",
       "4591  As the pressure to start construction on the D...  FAKE  \n",
       "4592  Tweet Home » Gold » Gold News » Currency Crisi...  FAKE  \n",
       "4593  Written by Eric Margolis   As a former soldier...  FAKE  \n",
       "\n",
       "[2297 rows x 4 columns]"
      ]
     },
     "execution_count": 3,
     "metadata": {},
     "output_type": "execute_result"
    }
   ],
   "source": [
    "kdnugget_dataset = pd.read_csv(\"fake_and_real_news_dataset.csv\")\n",
    "# print(kdnugget_dataset)\n",
    "true = kdnugget_dataset[kdnugget_dataset[\"label\"] == \"REAL\" ]\n",
    "fake = kdnugget_dataset[kdnugget_dataset[\"label\"] == \"FAKE\" ]\n",
    "fake"
   ]
  },
  {
   "cell_type": "code",
   "execution_count": 4,
   "id": "08759b2a",
   "metadata": {
    "execution": {
     "iopub.execute_input": "2021-07-18T18:57:59.975550Z",
     "iopub.status.busy": "2021-07-18T18:57:59.970658Z",
     "iopub.status.idle": "2021-07-18T18:57:59.978261Z",
     "shell.execute_reply": "2021-07-18T18:57:59.978679Z",
     "shell.execute_reply.started": "2021-07-18T18:49:18.842526Z"
    },
    "papermill": {
     "duration": 0.035193,
     "end_time": "2021-07-18T18:57:59.978846",
     "exception": false,
     "start_time": "2021-07-18T18:57:59.943653",
     "status": "completed"
    },
    "tags": []
   },
   "outputs": [
    {
     "name": "stdout",
     "output_type": "stream",
     "text": [
      "             idd                                              title  \\\n",
      "0     Fq+C96tcx+  ‘A target on Roe v. Wade ’: Oklahoma bill maki...   \n",
      "1     bHUqK!pgmv  Study: women had to drive 4 times farther afte...   \n",
      "2     4Y4Ubf%aTi        Trump, Clinton clash in dueling DC speeches   \n",
      "3     _CoY89SJ@K  Grand jury in Texas indicts activists behind P...   \n",
      "4     +rJHoRQVLe  As Reproductive Rights Hang In The Balance, De...   \n",
      "...          ...                                                ...   \n",
      "4589  ukZm6JTO#x                 Russia Calls the War Party's Bluff   \n",
      "4590  yu0xKEiapJ  Bernie Sanders: The Democratic primary gave me...   \n",
      "4591  c4Y370E_9c  Pipeline Police Strip Search Native Girl, Then...   \n",
      "4592  bBbeuCUeMH  Currency Crisis: Alasdair MacLeod On The Vexed...   \n",
      "4593  vE44sWBnd9                   Paper Tiger ISIS Digs Into Mosul   \n",
      "\n",
      "                                                   text label  truth  \n",
      "0     UPDATE: Gov. Fallin vetoed the bill on Friday....  REAL      1  \n",
      "1     Ever since Texas laws closed about half of the...  REAL      1  \n",
      "2     Donald Trump and Hillary Clinton, now at the s...  REAL      1  \n",
      "3     A Houston grand jury investigating criminal al...  REAL      1  \n",
      "4     WASHINGTON -- Forty-three years after the Supr...  REAL      1  \n",
      "...                                                 ...   ...    ...  \n",
      "4589  License DMCA \\nCold War 2.0 has reached unprec...  FAKE      0  \n",
      "4590  Print \\nSen. Bernie Sanders laid out the ways ...  FAKE      0  \n",
      "4591  As the pressure to start construction on the D...  FAKE      0  \n",
      "4592  Tweet Home » Gold » Gold News » Currency Crisi...  FAKE      0  \n",
      "4593  Written by Eric Margolis   As a former soldier...  FAKE      0  \n",
      "\n",
      "[4594 rows x 5 columns]\n"
     ]
    },
    {
     "name": "stderr",
     "output_type": "stream",
     "text": [
      "C:\\Users\\ALI\\AppData\\Local\\Temp\\ipykernel_20224\\834554012.py:1: SettingWithCopyWarning: \n",
      "A value is trying to be set on a copy of a slice from a DataFrame.\n",
      "Try using .loc[row_indexer,col_indexer] = value instead\n",
      "\n",
      "See the caveats in the documentation: https://pandas.pydata.org/pandas-docs/stable/user_guide/indexing.html#returning-a-view-versus-a-copy\n",
      "  true['truth'] = 1\n",
      "C:\\Users\\ALI\\AppData\\Local\\Temp\\ipykernel_20224\\834554012.py:2: SettingWithCopyWarning: \n",
      "A value is trying to be set on a copy of a slice from a DataFrame.\n",
      "Try using .loc[row_indexer,col_indexer] = value instead\n",
      "\n",
      "See the caveats in the documentation: https://pandas.pydata.org/pandas-docs/stable/user_guide/indexing.html#returning-a-view-versus-a-copy\n",
      "  fake['truth'] = 0\n"
     ]
    }
   ],
   "source": [
    "true['truth'] = 1\n",
    "fake['truth'] = 0\n",
    "df = pd.concat([true, fake], axis=0, ignore_index=True)\n",
    "df.shape\n",
    "print(df)"
   ]
  },
  {
   "cell_type": "code",
   "execution_count": 19,
   "id": "4d36322e",
   "metadata": {
    "execution": {
     "iopub.execute_input": "2021-07-18T18:58:00.075326Z",
     "iopub.status.busy": "2021-07-18T18:58:00.074396Z",
     "iopub.status.idle": "2021-07-18T18:58:17.716017Z",
     "shell.execute_reply": "2021-07-18T18:58:17.715591Z",
     "shell.execute_reply.started": "2021-07-18T18:49:19.993521Z"
    },
    "papermill": {
     "duration": 17.67359,
     "end_time": "2021-07-18T18:58:17.716142",
     "exception": false,
     "start_time": "2021-07-18T18:58:00.042552",
     "status": "completed"
    },
    "tags": []
   },
   "outputs": [],
   "source": [
    "def clean_text(txt):\n",
    "\n",
    "    contraction_dict = {\"ain't\": \"is not\", \"aren't\": \"are not\",\"can't\": \"cannot\", \"'cause\": \"because\", \"could've\": \"could have\", \"couldn't\": \"could not\", \"didn't\": \"did not\",  \"doesn't\": \"does not\", \"don't\": \"do not\", \"hadn't\": \"had not\", \"hasn't\": \"has not\", \"haven't\": \"have not\", \"he'd\": \"he would\",\"he'll\": \"he will\", \"he's\": \"he is\", \"how'd\": \"how did\", \"how'd'y\": \"how do you\", \"how'll\": \"how will\", \"how's\": \"how is\",  \"I'd\": \"I would\", \"I'd've\": \"I would have\", \"I'll\": \"I will\", \"I'll've\": \"I will have\",\"I'm\": \"I am\", \"I've\": \"I have\", \"i'd\": \"i would\", \"i'd've\": \"i would have\", \"i'll\": \"i will\",  \"i'll've\": \"i will have\",\"i'm\": \"i am\", \"i've\": \"i have\", \"isn't\": \"is not\", \"it'd\": \"it would\", \"it'd've\": \"it would have\", \"it'll\": \"it will\", \"it'll've\": \"it will have\",\"it's\": \"it is\", \"let's\": \"let us\", \"ma'am\": \"madam\", \"mayn't\": \"may not\", \"might've\": \"might have\",\"mightn't\": \"might not\",\"mightn't've\": \"might not have\", \"must've\": \"must have\", \"mustn't\": \"must not\", \"mustn't've\": \"must not have\", \"needn't\": \"need not\", \"needn't've\": \"need not have\",\"o'clock\": \"of the clock\", \"oughtn't\": \"ought not\", \"oughtn't've\": \"ought not have\", \"shan't\": \"shall not\", \"sha'n't\": \"shall not\", \"shan't've\": \"shall not have\", \"she'd\": \"she would\", \"she'd've\": \"she would have\", \"she'll\": \"she will\", \"she'll've\": \"she will have\", \"she's\": \"she is\", \"should've\": \"should have\", \"shouldn't\": \"should not\", \"shouldn't've\": \"should not have\", \"so've\": \"so have\",\"so's\": \"so as\", \"this's\": \"this is\",\"that'd\": \"that would\", \"that'd've\": \"that would have\", \"that's\": \"that is\", \"there'd\": \"there would\", \"there'd've\": \"there would have\", \"there's\": \"there is\", \"here's\": \"here is\",\"they'd\": \"they would\", \"they'd've\": \"they would have\", \"they'll\": \"they will\", \"they'll've\": \"they will have\", \"they're\": \"they are\", \"they've\": \"they have\", \"to've\": \"to have\", \"wasn't\": \"was not\", \"we'd\": \"we would\", \"we'd've\": \"we would have\", \"we'll\": \"we will\", \"we'll've\": \"we will have\", \"we're\": \"we are\", \"we've\": \"we have\", \"weren't\": \"were not\", \"what'll\": \"what will\", \"what'll've\": \"what will have\", \"what're\": \"what are\",  \"what's\": \"what is\", \"what've\": \"what have\", \"when's\": \"when is\", \"when've\": \"when have\", \"where'd\": \"where did\", \"where's\": \"where is\", \"where've\": \"where have\", \"who'll\": \"who will\", \"who'll've\": \"who will have\", \"who's\": \"who is\", \"who've\": \"who have\", \"why's\": \"why is\", \"why've\": \"why have\", \"will've\": \"will have\", \"won't\": \"will not\", \"won't've\": \"will not have\", \"would've\": \"would have\", \"wouldn't\": \"would not\", \"wouldn't've\": \"would not have\", \"y'all\": \"you all\", \"y'all'd\": \"you all would\",\"y'all'd've\": \"you all would have\",\"y'all're\": \"you all are\",\"y'all've\": \"you all have\",\"you'd\": \"you would\", \"you'd've\": \"you would have\", \"you'll\": \"you will\", \"you'll've\": \"you will have\", \"you're\": \"you are\", \"you've\": \"you have\"}\n",
    "    def _get_contractions(contraction_dict):\n",
    "        contraction_re = re.compile('(%s)' % '|'.join(contraction_dict.keys()))\n",
    "        return contraction_dict, contraction_re\n",
    "\n",
    "    def replace_contractions(text):\n",
    "        contractions, contractions_re = _get_contractions(contraction_dict)\n",
    "        def replace(match):\n",
    "            return contractions[match.group(0)]\n",
    "        return contractions_re.sub(replace, text)\n",
    "\n",
    "    # replace contractions\n",
    "    txt = replace_contractions(txt)\n",
    "    \n",
    "    #remove punctuations\n",
    "    txt  = \"\".join([char for char in txt if char not in string.punctuation])\n",
    "    txt = re.sub('[0-9]+', '', txt)\n",
    "    \n",
    "    # split into words\n",
    "    words = word_tokenize(txt)\n",
    "    \n",
    "    # remove stopwords\n",
    "    stop_words = set(stopwords.words('english'))\n",
    "    words = [w for w in words if not w in stop_words]\n",
    "    \n",
    "    # removing leftover punctuations\n",
    "    words = [word for word in words if word.isalpha()]\n",
    "    \n",
    "    cleaned_text = ' '.join(words)\n",
    "    return cleaned_text\n",
    "\n",
    "df['data_cleaned'] = df['title'].apply(lambda txt: clean_text(txt) if type(txt) != float else str(txt))\n"
   ]
  },
  {
   "cell_type": "code",
   "execution_count": 20,
   "id": "99e1a27f",
   "metadata": {
    "execution": {
     "iopub.execute_input": "2021-07-18T18:58:17.803444Z",
     "iopub.status.busy": "2021-07-18T18:58:17.802764Z",
     "iopub.status.idle": "2021-07-18T18:58:17.834548Z",
     "shell.execute_reply": "2021-07-18T18:58:17.834082Z",
     "shell.execute_reply.started": "2021-07-18T18:49:39.257844Z"
    },
    "papermill": {
     "duration": 0.057978,
     "end_time": "2021-07-18T18:58:17.834678",
     "exception": false,
     "start_time": "2021-07-18T18:58:17.776700",
     "status": "completed"
    },
    "tags": []
   },
   "outputs": [
    {
     "name": "stdout",
     "output_type": "stream",
     "text": [
      "Max number of words in a text in training data: 227\n"
     ]
    }
   ],
   "source": [
    "xtrain, xtest, ytrain, ytest = train_test_split(df['data_cleaned'], df['truth'], shuffle=True, test_size=0.2)\n",
    "# find the length of the largest sentence in training data\n",
    "max_len = xtrain.apply(lambda x: len(x)).max()\n",
    "print(f'Max number of words in a text in training data: {max_len}')"
   ]
  },
  {
   "cell_type": "code",
   "execution_count": 21,
   "id": "a9b770ae",
   "metadata": {
    "execution": {
     "iopub.execute_input": "2021-07-18T18:58:17.943448Z",
     "iopub.status.busy": "2021-07-18T18:58:17.933251Z",
     "iopub.status.idle": "2021-07-18T18:58:19.649264Z",
     "shell.execute_reply": "2021-07-18T18:58:19.649717Z",
     "shell.execute_reply.started": "2021-07-18T18:49:48.251776Z"
    },
    "papermill": {
     "duration": 1.754982,
     "end_time": "2021-07-18T18:58:19.649875",
     "exception": false,
     "start_time": "2021-07-18T18:58:17.894893",
     "status": "completed"
    },
    "tags": []
   },
   "outputs": [
    {
     "name": "stdout",
     "output_type": "stream",
     "text": [
      "Text Example: A target Roe v Wade Oklahoma bill making felony perform abortions waits governor decision\n",
      "Sequence of indices(before padding): [2, 202, 25, 693, 122, 540, 103, 110, 1205, 36, 111, 3364]\n",
      "Sequence of indices(after padding): [   0    0    0    0    0    0    0    0    0    0    0    0    0    0\n",
      "    0    0    0    0    0    0    0    0    0    0    0    0    0    0\n",
      "    0    0    0    0    0    0    0    0    0    0    0    0    0    0\n",
      "    0    0    0    0    0    0    0    0    0    0    0    0    0    0\n",
      "    0    0    0    0    0    0    0    0    0    0    0    0    0    0\n",
      "    0    0    0    0    0    0    0    0    0    0    0    0    0    0\n",
      "    0    0    0    0    0    0    0    0    0    0    0    0    0    0\n",
      "    0    0    0    0    0    0    0    0    0    0    0    0    0    0\n",
      "    0    0    0    0    0    0    0    0    0    0    0    0    0    0\n",
      "    0    0    0    0    0    0    0    0    0    0    0    0    0    0\n",
      "    0    0    0    0    0    0    0    0    0    0    0    0    0    0\n",
      "    0    0    0    0    0    0    0    0    0    0    0    0    0    0\n",
      "    0    0    0    0    0    0    0    0    0    0    0    0    0    0\n",
      "    0    0    0    0    0    0    0    0    0    0    0    0    0    0\n",
      "    0    0    0    0    0    0    0    0    0    0    0    0    0    0\n",
      "    0    0    0    0    0    2  202   25  693  122  540  103  110 1205\n",
      "   36  111 3364]\n"
     ]
    }
   ],
   "source": [
    "max_words = 10000\n",
    "tokenizer = text.Tokenizer(num_words = max_words)\n",
    "# create the vocabulary by fitting on x_train text\n",
    "tokenizer.fit_on_texts(xtrain)\n",
    "# generate the sequence of tokens\n",
    "xtrain_seq = tokenizer.texts_to_sequences(xtrain)\n",
    "xtest_seq = tokenizer.texts_to_sequences(xtest)\n",
    "\n",
    "# pad the sequences\n",
    "xtrain_pad = pad_sequences(xtrain_seq, maxlen=max_len)\n",
    "xtest_pad = pad_sequences(xtest_seq, maxlen=max_len)\n",
    "word_index = tokenizer.word_index\n",
    "\n",
    "print('Text Example:', xtrain[0])\n",
    "print('Sequence of indices(before padding):', xtrain_seq[0])\n",
    "print('Sequence of indices(after padding):', xtrain_pad[0])"
   ]
  },
  {
   "cell_type": "markdown",
   "id": "dd22cc7c",
   "metadata": {
    "papermill": {
     "duration": 0.035048,
     "end_time": "2021-07-18T18:58:19.722986",
     "exception": false,
     "start_time": "2021-07-18T18:58:19.687938",
     "status": "completed"
    },
    "tags": []
   },
   "source": [
    "## Word embedding using pre-trained GloVe vectors\n"
   ]
  },
  {
   "cell_type": "code",
   "execution_count": 22,
   "id": "538c0732",
   "metadata": {
    "execution": {
     "iopub.execute_input": "2021-07-18T18:58:19.873157Z",
     "iopub.status.busy": "2021-07-18T18:58:19.872100Z",
     "iopub.status.idle": "2021-07-18T19:02:27.939468Z",
     "shell.execute_reply": "2021-07-18T19:02:27.939884Z",
     "shell.execute_reply.started": "2021-07-18T18:49:55.444934Z"
    },
    "papermill": {
     "duration": 248.110716,
     "end_time": "2021-07-18T19:02:27.940036",
     "exception": false,
     "start_time": "2021-07-18T18:58:19.829320",
     "status": "completed"
    },
    "tags": []
   },
   "outputs": [
    {
     "name": "stdout",
     "output_type": "stream",
     "text": [
      "Size of vocabulary in GloVe: 1193514\n"
     ]
    }
   ],
   "source": [
    "embedding_vectors = {}\n",
    "with open('glove.twitter.27B.100d.txt','r',encoding='utf-8') as file:\n",
    "    for row in file:\n",
    "        values = row.split(' ')\n",
    "        word = values[0]\n",
    "        weights = np.asarray([float(val) for val in values[1:]])\n",
    "        embedding_vectors[word] = weights\n",
    "print(f\"Size of vocabulary in GloVe: {len(embedding_vectors)}\")   \n"
   ]
  },
  {
   "cell_type": "code",
   "execution_count": 23,
   "id": "34c20613",
   "metadata": {
    "execution": {
     "iopub.execute_input": "2021-07-18T19:02:28.027424Z",
     "iopub.status.busy": "2021-07-18T19:02:28.026624Z",
     "iopub.status.idle": "2021-07-18T19:02:28.065727Z",
     "shell.execute_reply": "2021-07-18T19:02:28.066093Z",
     "shell.execute_reply.started": "2021-07-18T18:54:11.673218Z"
    },
    "papermill": {
     "duration": 0.065478,
     "end_time": "2021-07-18T19:02:28.066246",
     "exception": false,
     "start_time": "2021-07-18T19:02:28.000768",
     "status": "completed"
    },
    "scrolled": true,
    "tags": []
   },
   "outputs": [
    {
     "name": "stdout",
     "output_type": "stream",
     "text": [
      "Some out of valubulary words: ['antitrump', 'truthfeed', 'brexit', 'egyptair', 'hillarys']\n"
     ]
    }
   ],
   "source": [
    "#initialize the embedding_matrix with zeros\n",
    "emb_dim = 100\n",
    "if max_words is not None: \n",
    "    vocab_len = max_words \n",
    "else:\n",
    "    vocab_len = len(word_index)+1\n",
    "embedding_matrix = np.zeros((vocab_len, emb_dim))\n",
    "oov_count = 0\n",
    "oov_words = []\n",
    "for word, idx in word_index.items():\n",
    "    if idx < vocab_len:\n",
    "        embedding_vector = embedding_vectors.get(word)\n",
    "        if embedding_vector is not None:\n",
    "            embedding_matrix[idx] = embedding_vector\n",
    "        else:\n",
    "            oov_count += 1 \n",
    "            oov_words.append(word)\n",
    "#print some of the out of vocabulary words\n",
    "print(f'Some out of valubulary words: {oov_words[0:5]}')"
   ]
  },
  {
   "cell_type": "code",
   "execution_count": 24,
   "id": "5c88fd19",
   "metadata": {
    "execution": {
     "iopub.execute_input": "2021-07-18T19:02:28.110708Z",
     "iopub.status.busy": "2021-07-18T19:02:28.110158Z",
     "iopub.status.idle": "2021-07-18T19:02:28.114161Z",
     "shell.execute_reply": "2021-07-18T19:02:28.114986Z",
     "shell.execute_reply.started": "2021-07-18T18:54:11.919007Z"
    },
    "papermill": {
     "duration": 0.028463,
     "end_time": "2021-07-18T19:02:28.115102",
     "exception": false,
     "start_time": "2021-07-18T19:02:28.086639",
     "status": "completed"
    },
    "tags": []
   },
   "outputs": [],
   "source": [
    "def eval_model(true_value, predict_value):\n",
    "    print(\"accuracy:  \", accuracy_score(true_value, predict_value))\n",
    "    print(\"Precision:  \", precision_score(true_value, predict_value))\n",
    "    print(\"Recall:  \", recall_score(true_value, predict_value))\n",
    "    print(\"F1 score:  \", f1_score(true_value, predict_value))"
   ]
  },
  {
   "cell_type": "markdown",
   "id": "2580271b",
   "metadata": {
    "papermill": {
     "duration": 0.020511,
     "end_time": "2021-07-18T19:02:28.197596",
     "exception": false,
     "start_time": "2021-07-18T19:02:28.177085",
     "status": "completed"
    },
    "tags": []
   },
   "source": [
    "## LSTM"
   ]
  },
  {
   "cell_type": "code",
   "execution_count": 25,
   "id": "7d2e5bd9",
   "metadata": {},
   "outputs": [
    {
     "data": {
      "text/plain": [
       "10000"
      ]
     },
     "execution_count": 25,
     "metadata": {},
     "output_type": "execute_result"
    }
   ],
   "source": [
    "vocab_len"
   ]
  },
  {
   "cell_type": "code",
   "execution_count": 26,
   "id": "d3fa5932",
   "metadata": {
    "execution": {
     "iopub.execute_input": "2021-07-18T19:02:28.245949Z",
     "iopub.status.busy": "2021-07-18T19:02:28.245295Z",
     "iopub.status.idle": "2021-07-18T19:02:30.475490Z",
     "shell.execute_reply": "2021-07-18T19:02:30.475050Z",
     "shell.execute_reply.started": "2021-07-18T18:54:19.943302Z"
    },
    "papermill": {
     "duration": 2.25666,
     "end_time": "2021-07-18T19:02:30.475626",
     "exception": false,
     "start_time": "2021-07-18T19:02:28.218966",
     "status": "completed"
    },
    "scrolled": true,
    "tags": []
   },
   "outputs": [
    {
     "name": "stdout",
     "output_type": "stream",
     "text": [
      "Model: \"sequential_1\"\n",
      "_________________________________________________________________\n",
      " Layer (type)                Output Shape              Param #   \n",
      "=================================================================\n",
      " embedding_1 (Embedding)     (None, None, 100)         1000000   \n",
      "                                                                 \n",
      " lstm_2 (LSTM)               (None, None, 64)          42240     \n",
      "                                                                 \n",
      " lstm_3 (LSTM)               (None, 128)               98816     \n",
      "                                                                 \n",
      " dense_2 (Dense)             (None, 32)                4128      \n",
      "                                                                 \n",
      " dense_3 (Dense)             (None, 1)                 33        \n",
      "                                                                 \n",
      "=================================================================\n",
      "Total params: 1,145,217\n",
      "Trainable params: 145,217\n",
      "Non-trainable params: 1,000,000\n",
      "_________________________________________________________________\n",
      "None\n"
     ]
    }
   ],
   "source": [
    "lstm_model = Sequential()\n",
    "lstm_model.add(Embedding(vocab_len, emb_dim, trainable = False, weights=[embedding_matrix]))\n",
    "lstm_model.add(LSTM(64, return_sequences=True))\n",
    "lstm_model.add(LSTM(128, return_sequences=False))\n",
    "lstm_model.add(Dense(32, activation = 'sigmoid'))\n",
    "lstm_model.add(Dense(1, activation = 'sigmoid'))\n",
    "lstm_model.compile(loss='binary_crossentropy', optimizer='adam', metrics=['accuracy'])\n",
    "print(lstm_model.summary())"
   ]
  },
  {
   "cell_type": "code",
   "execution_count": 28,
   "id": "ba0bad64",
   "metadata": {
    "execution": {
     "iopub.execute_input": "2021-07-18T19:02:30.522398Z",
     "iopub.status.busy": "2021-07-18T19:02:30.521819Z",
     "iopub.status.idle": "2021-07-18T19:03:44.374834Z",
     "shell.execute_reply": "2021-07-18T19:03:44.374291Z",
     "shell.execute_reply.started": "2021-07-18T18:54:26.353077Z"
    },
    "papermill": {
     "duration": 73.878123,
     "end_time": "2021-07-18T19:03:44.374977",
     "exception": false,
     "start_time": "2021-07-18T19:02:30.496854",
     "status": "completed"
    },
    "scrolled": true,
    "tags": []
   },
   "outputs": [
    {
     "name": "stdout",
     "output_type": "stream",
     "text": [
      "Epoch 1/10\n",
      "15/15 [==============================] - 29s 2s/step - loss: 0.6610 - accuracy: 0.6024 - val_loss: 0.5659 - val_accuracy: 0.7399\n",
      "Epoch 2/10\n",
      "15/15 [==============================] - 28s 2s/step - loss: 0.5116 - accuracy: 0.7725 - val_loss: 0.4896 - val_accuracy: 0.7769\n",
      "Epoch 3/10\n",
      "15/15 [==============================] - 29s 2s/step - loss: 0.4541 - accuracy: 0.8008 - val_loss: 0.4675 - val_accuracy: 0.7900\n",
      "Epoch 4/10\n",
      "15/15 [==============================] - 30s 2s/step - loss: 0.4274 - accuracy: 0.8188 - val_loss: 0.4321 - val_accuracy: 0.8128\n",
      "Epoch 5/10\n",
      "15/15 [==============================] - 31s 2s/step - loss: 0.4032 - accuracy: 0.8316 - val_loss: 0.4135 - val_accuracy: 0.8292\n",
      "Epoch 6/10\n",
      "15/15 [==============================] - 31s 2s/step - loss: 0.3867 - accuracy: 0.8435 - val_loss: 0.3968 - val_accuracy: 0.8357\n",
      "Epoch 7/10\n",
      "15/15 [==============================] - 30s 2s/step - loss: 0.3706 - accuracy: 0.8463 - val_loss: 0.3905 - val_accuracy: 0.8455\n",
      "Epoch 8/10\n",
      "15/15 [==============================] - 31s 2s/step - loss: 0.3572 - accuracy: 0.8531 - val_loss: 0.3785 - val_accuracy: 0.8444\n",
      "Epoch 9/10\n",
      "15/15 [==============================] - 31s 2s/step - loss: 0.3377 - accuracy: 0.8585 - val_loss: 0.3795 - val_accuracy: 0.8324\n",
      "Epoch 10/10\n",
      "15/15 [==============================] - 32s 2s/step - loss: 0.3252 - accuracy: 0.8678 - val_loss: 0.3745 - val_accuracy: 0.8411\n"
     ]
    }
   ],
   "source": [
    "batch_size = 256\n",
    "epochs  = 10\n",
    "history = lstm_model.fit(xtrain_pad, np.asarray(ytrain), validation_data=(xtest_pad, np.asarray(ytest)), batch_size = batch_size, epochs = epochs)\n"
   ]
  },
  {
   "cell_type": "code",
   "execution_count": 29,
   "id": "dc1fe7ff",
   "metadata": {},
   "outputs": [],
   "source": [
    "lstm_model.save(\"lstm_model_kdnugget.h5\")"
   ]
  },
  {
   "cell_type": "code",
   "execution_count": 30,
   "id": "91e9e438",
   "metadata": {
    "execution": {
     "iopub.execute_input": "2021-07-18T19:03:45.279826Z",
     "iopub.status.busy": "2021-07-18T19:03:45.279053Z",
     "iopub.status.idle": "2021-07-18T19:03:45.475700Z",
     "shell.execute_reply": "2021-07-18T19:03:45.476327Z",
     "shell.execute_reply.started": "2021-07-18T18:55:51.979934Z"
    },
    "papermill": {
     "duration": 0.441192,
     "end_time": "2021-07-18T19:03:45.476493",
     "exception": false,
     "start_time": "2021-07-18T19:03:45.035301",
     "status": "completed"
    },
    "tags": []
   },
   "outputs": [
    {
     "data": {
      "text/plain": [
       "Text(0.5, 1.0, 'Accuracy')"
      ]
     },
     "execution_count": 30,
     "metadata": {},
     "output_type": "execute_result"
    },
    {
     "data": {
      "image/png": "[encoded data removed]",
      "text/plain": [
       "<Figure size 1500x700 with 1 Axes>"
      ]
     },
     "metadata": {},
     "output_type": "display_data"
    }
   ],
   "source": [
    "#plot accuracy\n",
    "plt.figure(figsize=(15, 7))\n",
    "plt.plot(range(epochs), history.history['accuracy'])\n",
    "plt.plot(range(epochs), history.history['val_accuracy'])\n",
    "plt.legend(['training_acc', 'validation_acc'])\n",
    "plt.title('Accuracy')"
   ]
  },
  {
   "cell_type": "code",
   "execution_count": 31,
   "id": "5517e395",
   "metadata": {
    "execution": {
     "iopub.execute_input": "2021-07-18T19:03:45.931976Z",
     "iopub.status.busy": "2021-07-18T19:03:45.931055Z",
     "iopub.status.idle": "2021-07-18T19:03:50.166937Z",
     "shell.execute_reply": "2021-07-18T19:03:50.166427Z",
     "shell.execute_reply.started": "2021-07-18T18:55:57.405246Z"
    },
    "papermill": {
     "duration": 4.467692,
     "end_time": "2021-07-18T19:03:50.167097",
     "exception": false,
     "start_time": "2021-07-18T19:03:45.699405",
     "status": "completed"
    },
    "tags": []
   },
   "outputs": [
    {
     "name": "stdout",
     "output_type": "stream",
     "text": [
      "29/29 [==============================] - 3s 82ms/step\n",
      "accuracy:   0.8411316648531012\n",
      "Precision:   0.8322851153039832\n",
      "Recall:   0.857451403887689\n",
      "F1 score:   0.8446808510638297\n"
     ]
    }
   ],
   "source": [
    "predict_y = lstm_model.predict(xtest_pad)\n",
    "eval_model(np.array(ytest).astype(int), predict_y.round())"
   ]
  },
  {
   "cell_type": "markdown",
   "id": "be339d27",
   "metadata": {
    "papermill": {
     "duration": 0.222207,
     "end_time": "2021-07-18T19:03:50.613001",
     "exception": false,
     "start_time": "2021-07-18T19:03:50.390794",
     "status": "completed"
    },
    "tags": []
   },
   "source": [
    "## GRU"
   ]
  },
  {
   "cell_type": "code",
   "execution_count": 32,
   "id": "c06dbc08",
   "metadata": {
    "execution": {
     "iopub.execute_input": "2021-07-18T19:03:51.066547Z",
     "iopub.status.busy": "2021-07-18T19:03:51.065662Z",
     "iopub.status.idle": "2021-07-18T19:03:51.333506Z",
     "shell.execute_reply": "2021-07-18T19:03:51.332577Z",
     "shell.execute_reply.started": "2021-07-18T18:56:06.897905Z"
    },
    "papermill": {
     "duration": 0.496345,
     "end_time": "2021-07-18T19:03:51.333672",
     "exception": false,
     "start_time": "2021-07-18T19:03:50.837327",
     "status": "completed"
    },
    "tags": []
   },
   "outputs": [
    {
     "name": "stdout",
     "output_type": "stream",
     "text": [
      "Model: \"sequential_2\"\n",
      "_________________________________________________________________\n",
      " Layer (type)                Output Shape              Param #   \n",
      "=================================================================\n",
      " embedding_2 (Embedding)     (None, None, 100)         1000000   \n",
      "                                                                 \n",
      " gru (GRU)                   (None, 128)               88320     \n",
      "                                                                 \n",
      " dropout (Dropout)           (None, 128)               0         \n",
      "                                                                 \n",
      " dense_4 (Dense)             (None, 1)                 129       \n",
      "                                                                 \n",
      "=================================================================\n",
      "Total params: 1,088,449\n",
      "Trainable params: 88,449\n",
      "Non-trainable params: 1,000,000\n",
      "_________________________________________________________________\n",
      "None\n"
     ]
    }
   ],
   "source": [
    "emb_dim = embedding_matrix.shape[1]\n",
    "gru_model = Sequential()\n",
    "gru_model.add(Embedding(vocab_len, emb_dim, trainable = False, weights=[embedding_matrix]))\n",
    "gru_model.add(GRU(128, return_sequences=False))\n",
    "gru_model.add(Dropout(0.5))\n",
    "gru_model.add(Dense(1, activation = 'sigmoid'))\n",
    "gru_model.compile(loss='binary_crossentropy', optimizer='adam', metrics=['accuracy'])\n",
    "print(gru_model.summary())"
   ]
  },
  {
   "cell_type": "code",
   "execution_count": 33,
   "id": "4b2ec41b",
   "metadata": {
    "execution": {
     "iopub.execute_input": "2021-07-18T19:03:51.781362Z",
     "iopub.status.busy": "2021-07-18T19:03:51.780472Z",
     "iopub.status.idle": "2021-07-18T19:04:58.910691Z",
     "shell.execute_reply": "2021-07-18T19:04:58.910159Z",
     "shell.execute_reply.started": "2021-07-18T18:56:09.868172Z"
    },
    "papermill": {
     "duration": 67.35497,
     "end_time": "2021-07-18T19:04:58.910839",
     "exception": false,
     "start_time": "2021-07-18T19:03:51.555869",
     "status": "completed"
    },
    "scrolled": true,
    "tags": []
   },
   "outputs": [
    {
     "name": "stdout",
     "output_type": "stream",
     "text": [
      "Epoch 1/10\n",
      "15/15 [==============================] - 11s 646ms/step - loss: 0.6428 - accuracy: 0.6256 - val_loss: 0.5359 - val_accuracy: 0.7693\n",
      "Epoch 2/10\n",
      "15/15 [==============================] - 9s 574ms/step - loss: 0.4984 - accuracy: 0.7690 - val_loss: 0.4679 - val_accuracy: 0.7889\n",
      "Epoch 3/10\n",
      "15/15 [==============================] - 8s 555ms/step - loss: 0.4392 - accuracy: 0.7989 - val_loss: 0.4290 - val_accuracy: 0.8074\n",
      "Epoch 4/10\n",
      "15/15 [==============================] - 8s 558ms/step - loss: 0.4064 - accuracy: 0.8150 - val_loss: 0.4186 - val_accuracy: 0.8107\n",
      "Epoch 5/10\n",
      "15/15 [==============================] - 9s 580ms/step - loss: 0.3880 - accuracy: 0.8226 - val_loss: 0.4106 - val_accuracy: 0.8150\n",
      "Epoch 6/10\n",
      "15/15 [==============================] - 9s 617ms/step - loss: 0.3763 - accuracy: 0.8335 - val_loss: 0.4029 - val_accuracy: 0.8215\n",
      "Epoch 7/10\n",
      "15/15 [==============================] - 9s 621ms/step - loss: 0.3664 - accuracy: 0.8351 - val_loss: 0.3850 - val_accuracy: 0.8270\n",
      "Epoch 8/10\n",
      "15/15 [==============================] - 9s 626ms/step - loss: 0.3464 - accuracy: 0.8501 - val_loss: 0.3772 - val_accuracy: 0.8346\n",
      "Epoch 9/10\n",
      "15/15 [==============================] - 9s 625ms/step - loss: 0.3312 - accuracy: 0.8544 - val_loss: 0.4214 - val_accuracy: 0.8183\n",
      "Epoch 10/10\n",
      "15/15 [==============================] - 9s 626ms/step - loss: 0.3305 - accuracy: 0.8558 - val_loss: 0.3732 - val_accuracy: 0.8292\n"
     ]
    }
   ],
   "source": [
    "batch_size = 256\n",
    "epochs  = 10\n",
    "history = gru_model.fit(xtrain_pad, np.asarray(ytrain), validation_data=(xtest_pad, np.asarray(ytest)), batch_size = batch_size, epochs = epochs)\n"
   ]
  },
  {
   "cell_type": "code",
   "execution_count": 34,
   "id": "639b3e47",
   "metadata": {},
   "outputs": [],
   "source": [
    "gru_model.save(\"gru_model_kdnugget.h5\")"
   ]
  },
  {
   "cell_type": "code",
   "execution_count": 35,
   "id": "8f867784",
   "metadata": {
    "execution": {
     "iopub.execute_input": "2021-07-18T19:05:00.662750Z",
     "iopub.status.busy": "2021-07-18T19:05:00.649522Z",
     "iopub.status.idle": "2021-07-18T19:05:00.830910Z",
     "shell.execute_reply": "2021-07-18T19:05:00.831394Z",
     "shell.execute_reply.started": "2021-07-18T18:57:20.794628Z"
    },
    "papermill": {
     "duration": 0.615516,
     "end_time": "2021-07-18T19:05:00.831550",
     "exception": false,
     "start_time": "2021-07-18T19:05:00.216034",
     "status": "completed"
    },
    "tags": []
   },
   "outputs": [
    {
     "data": {
      "text/plain": [
       "Text(0.5, 1.0, 'Accuracy')"
      ]
     },
     "execution_count": 35,
     "metadata": {},
     "output_type": "execute_result"
    },
    {
     "data": {
      "image/png": "[encoded data removed]",
      "text/plain": [
       "<Figure size 1500x700 with 1 Axes>"
      ]
     },
     "metadata": {},
     "output_type": "display_data"
    }
   ],
   "source": [
    "#plot accuracy\n",
    "plt.figure(figsize=(15, 7))\n",
    "plt.plot(range(epochs), history.history['accuracy'])\n",
    "plt.plot(range(epochs), history.history['val_accuracy'])\n",
    "plt.legend(['training_acc', 'validation_acc'])\n",
    "plt.title('Accuracy')"
   ]
  },
  {
   "cell_type": "code",
   "execution_count": 36,
   "id": "78e3234e",
   "metadata": {},
   "outputs": [
    {
     "name": "stdout",
     "output_type": "stream",
     "text": [
      "29/29 [==============================] - 1s 25ms/step\n",
      "accuracy:   0.8291621327529923\n",
      "Precision:   0.8415178571428571\n",
      "Recall:   0.8142548596112311\n",
      "F1 score:   0.827661909989023\n"
     ]
    }
   ],
   "source": [
    "predict_y = gru_model.predict(xtest_pad)\n",
    "eval_model(np.array(ytest).astype(int), predict_y.round())"
   ]
  },
  {
   "cell_type": "markdown",
   "id": "01821a12",
   "metadata": {},
   "source": [
    "## CNN"
   ]
  },
  {
   "cell_type": "code",
   "execution_count": 37,
   "id": "bcc98398",
   "metadata": {},
   "outputs": [
    {
     "name": "stdout",
     "output_type": "stream",
     "text": [
      "Model: \"sequential_3\"\n",
      "_________________________________________________________________\n",
      " Layer (type)                Output Shape              Param #   \n",
      "=================================================================\n",
      " embedding_3 (Embedding)     (None, None, 100)         1000000   \n",
      "                                                                 \n",
      " dropout_1 (Dropout)         (None, None, 100)         0         \n",
      "                                                                 \n",
      " conv1d (Conv1D)             (None, None, 128)         51328     \n",
      "                                                                 \n",
      " global_max_pooling1d (Globa  (None, 128)              0         \n",
      " lMaxPooling1D)                                                  \n",
      "                                                                 \n",
      " dropout_2 (Dropout)         (None, 128)               0         \n",
      "                                                                 \n",
      " dense_5 (Dense)             (None, 128)               16512     \n",
      "                                                                 \n",
      " dense_6 (Dense)             (None, 1)                 129       \n",
      "                                                                 \n",
      "=================================================================\n",
      "Total params: 1,067,969\n",
      "Trainable params: 67,969\n",
      "Non-trainable params: 1,000,000\n",
      "_________________________________________________________________\n",
      "None\n"
     ]
    }
   ],
   "source": [
    "emb_dim = embedding_matrix.shape[1]\n",
    "cnn_model = Sequential()\n",
    "cnn_model.add(Embedding(vocab_len, emb_dim, trainable = False, weights=[embedding_matrix]))\n",
    "cnn_model.add(Dropout(0.2))\n",
    "cnn_model.add(Conv1D(128 , kernel_size=4))\n",
    "cnn_model.add(GlobalMaxPool1D())\n",
    "cnn_model.add(Dropout(0.2))\n",
    "cnn_model.add(Dense(128, activation = 'sigmoid'))\n",
    "cnn_model.add(Dense(1, activation = 'sigmoid'))\n",
    "cnn_model.compile(loss='binary_crossentropy', optimizer='adam', metrics=['accuracy'])\n",
    "print(cnn_model.summary())"
   ]
  },
  {
   "cell_type": "code",
   "execution_count": 38,
   "id": "dc06fb14",
   "metadata": {},
   "outputs": [
    {
     "name": "stdout",
     "output_type": "stream",
     "text": [
      "Epoch 1/10\n",
      "15/15 [==============================] - 2s 112ms/step - loss: 0.6523 - accuracy: 0.6286 - val_loss: 0.5772 - val_accuracy: 0.7476\n",
      "Epoch 2/10\n",
      "15/15 [==============================] - 1s 100ms/step - loss: 0.5332 - accuracy: 0.7644 - val_loss: 0.4868 - val_accuracy: 0.7693\n",
      "Epoch 3/10\n",
      "15/15 [==============================] - 2s 105ms/step - loss: 0.4728 - accuracy: 0.7804 - val_loss: 0.4553 - val_accuracy: 0.7889\n",
      "Epoch 4/10\n",
      "15/15 [==============================] - 2s 103ms/step - loss: 0.4346 - accuracy: 0.8131 - val_loss: 0.4508 - val_accuracy: 0.7867\n",
      "Epoch 5/10\n",
      "15/15 [==============================] - 2s 102ms/step - loss: 0.4088 - accuracy: 0.8182 - val_loss: 0.4327 - val_accuracy: 0.8020\n",
      "Epoch 6/10\n",
      "15/15 [==============================] - 2s 102ms/step - loss: 0.3952 - accuracy: 0.8239 - val_loss: 0.4150 - val_accuracy: 0.8041\n",
      "Epoch 7/10\n",
      "15/15 [==============================] - 1s 101ms/step - loss: 0.3692 - accuracy: 0.8359 - val_loss: 0.4006 - val_accuracy: 0.8139\n",
      "Epoch 8/10\n",
      "15/15 [==============================] - 1s 98ms/step - loss: 0.3445 - accuracy: 0.8522 - val_loss: 0.3919 - val_accuracy: 0.8270\n",
      "Epoch 9/10\n",
      "15/15 [==============================] - 1s 92ms/step - loss: 0.3238 - accuracy: 0.8702 - val_loss: 0.3973 - val_accuracy: 0.8194\n",
      "Epoch 10/10\n",
      "15/15 [==============================] - 1s 92ms/step - loss: 0.3113 - accuracy: 0.8746 - val_loss: 0.3799 - val_accuracy: 0.8313\n"
     ]
    }
   ],
   "source": [
    "batch_size = 256\n",
    "epochs  = 10\n",
    "history = cnn_model.fit(xtrain_pad, np.asarray(ytrain), validation_data=(xtest_pad, np.asarray(ytest)), batch_size = batch_size, epochs = epochs)\n"
   ]
  },
  {
   "cell_type": "code",
   "execution_count": 39,
   "id": "6686718d",
   "metadata": {},
   "outputs": [],
   "source": [
    "cnn_model.save(\"cnn_model_kdnugget.h5\")"
   ]
  },
  {
   "cell_type": "code",
   "execution_count": 40,
   "id": "044dfd22",
   "metadata": {},
   "outputs": [
    {
     "data": {
      "text/plain": [
       "Text(0.5, 1.0, 'Accuracy')"
      ]
     },
     "execution_count": 40,
     "metadata": {},
     "output_type": "execute_result"
    },
    {
     "data": {
      "image/png": "[encoded data removed]",
      "text/plain": [
       "<Figure size 1500x700 with 1 Axes>"
      ]
     },
     "metadata": {},
     "output_type": "display_data"
    }
   ],
   "source": [
    "#plot accuracy\n",
    "plt.figure(figsize=(15, 7))\n",
    "plt.plot(range(epochs), history.history['accuracy'])\n",
    "plt.plot(range(epochs), history.history['val_accuracy'])\n",
    "plt.legend(['training_acc', 'validation_acc'])\n",
    "plt.title('Accuracy')"
   ]
  },
  {
   "cell_type": "code",
   "execution_count": 41,
   "id": "6afd1cd1",
   "metadata": {},
   "outputs": [
    {
     "name": "stdout",
     "output_type": "stream",
     "text": [
      "29/29 [==============================] - 0s 5ms/step\n",
      "accuracy:   0.8313384113166485\n",
      "Precision:   0.7927756653992395\n",
      "Recall:   0.9006479481641468\n",
      "F1 score:   0.8432760364004044\n"
     ]
    }
   ],
   "source": [
    "predict_y = cnn_model.predict(xtest_pad)\n",
    "eval_model(np.array(ytest).astype(int), predict_y.round())"
   ]
  }
 ],
 "metadata": {
  "kernelspec": {
   "display_name": "Python 3",
   "language": "python",
   "name": "python3"
  },
  "language_info": {
   "codemirror_mode": {
    "name": "ipython",
    "version": 3
   },
   "file_extension": ".py",
   "mimetype": "text/x-python",
   "name": "python",
   "nbconvert_exporter": "python",
   "pygments_lexer": "ipython3",
   "version": "3.10.6"
  },
  "papermill": {
   "default_parameters": {},
   "duration": 444.863566,
   "end_time": "2021-07-18T19:05:09.381678",
   "environment_variables": {},
   "exception": null,
   "input_path": "__notebook__.ipynb",
   "output_path": "__notebook__.ipynb",
   "parameters": {},
   "start_time": "2021-07-18T18:57:44.518112",
   "version": "2.3.3"
  }
 },
 "nbformat": 4,
 "nbformat_minor": 5
}
