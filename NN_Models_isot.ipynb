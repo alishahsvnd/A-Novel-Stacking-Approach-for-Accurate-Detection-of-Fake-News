{
 "cells": [
  {
   "cell_type": "code",
   "execution_count": 22,
   "id": "7f499049",
   "metadata": {
    "execution": {
     "iopub.execute_input": "2021-07-18T18:57:51.682735Z",
     "iopub.status.busy": "2021-07-18T18:57:51.681235Z",
     "iopub.status.idle": "2021-07-18T18:57:57.062499Z",
     "shell.execute_reply": "2021-07-18T18:57:57.061424Z",
     "shell.execute_reply.started": "2021-07-18T18:49:17.216524Z"
    },
    "papermill": {
     "duration": 5.405912,
     "end_time": "2021-07-18T18:57:57.062741",
     "exception": false,
     "start_time": "2021-07-18T18:57:51.656829",
     "status": "completed"
    },
    "tags": []
   },
   "outputs": [],
   "source": [
    "import tensorflow as tf\n",
    "from keras.layers import LSTM, GRU, Dense, Embedding, Dropout , Conv1D , GlobalMaxPool1D\n",
    "from keras.preprocessing import text, sequence\n",
    "from keras.models import Sequential\n",
    "from sklearn.model_selection import train_test_split\n",
    "import pandas as pd\n",
    "import numpy as np\n",
    "from keras.utils.data_utils import pad_sequences\n",
    "import string\n",
    "import re\n",
    "import nltk\n",
    "from nltk.tokenize import word_tokenize\n",
    "from nltk.corpus import stopwords\n",
    "import matplotlib.pyplot as plt\n",
    "from keras.models import load_model\n",
    "from sklearn.metrics import f1_score, precision_score, recall_score, accuracy_score\n"
   ]
  },
  {
   "cell_type": "code",
   "execution_count": 2,
   "id": "b02ae120",
   "metadata": {
    "execution": {
     "iopub.execute_input": "2021-07-18T18:57:57.146047Z",
     "iopub.status.busy": "2021-07-18T18:57:57.145436Z",
     "iopub.status.idle": "2021-07-18T18:57:58.476594Z",
     "shell.execute_reply": "2021-07-18T18:57:58.475807Z",
     "shell.execute_reply.started": "2021-07-18T18:49:17.654585Z"
    },
    "papermill": {
     "duration": 1.356147,
     "end_time": "2021-07-18T18:57:58.476722",
     "exception": false,
     "start_time": "2021-07-18T18:57:57.120575",
     "status": "completed"
    },
    "tags": []
   },
   "outputs": [
    {
     "data": {
      "text/html": [
       "<div>\n",
       "<style scoped>\n",
       "    .dataframe tbody tr th:only-of-type {\n",
       "        vertical-align: middle;\n",
       "    }\n",
       "\n",
       "    .dataframe tbody tr th {\n",
       "        vertical-align: top;\n",
       "    }\n",
       "\n",
       "    .dataframe thead th {\n",
       "        text-align: right;\n",
       "    }\n",
       "</style>\n",
       "<table border=\"1\" class=\"dataframe\">\n",
       "  <thead>\n",
       "    <tr style=\"text-align: right;\">\n",
       "      <th></th>\n",
       "      <th>title</th>\n",
       "      <th>text</th>\n",
       "      <th>subject</th>\n",
       "      <th>date</th>\n",
       "    </tr>\n",
       "  </thead>\n",
       "  <tbody>\n",
       "    <tr>\n",
       "      <th>0</th>\n",
       "      <td>As U.S. budget fight looms, Republicans flip t...</td>\n",
       "      <td>WASHINGTON (Reuters) - The head of a conservat...</td>\n",
       "      <td>politicsNews</td>\n",
       "      <td>December 31, 2017</td>\n",
       "    </tr>\n",
       "    <tr>\n",
       "      <th>1</th>\n",
       "      <td>U.S. military to accept transgender recruits o...</td>\n",
       "      <td>WASHINGTON (Reuters) - Transgender people will...</td>\n",
       "      <td>politicsNews</td>\n",
       "      <td>December 29, 2017</td>\n",
       "    </tr>\n",
       "    <tr>\n",
       "      <th>2</th>\n",
       "      <td>Senior U.S. Republican senator: 'Let Mr. Muell...</td>\n",
       "      <td>WASHINGTON (Reuters) - The special counsel inv...</td>\n",
       "      <td>politicsNews</td>\n",
       "      <td>December 31, 2017</td>\n",
       "    </tr>\n",
       "    <tr>\n",
       "      <th>3</th>\n",
       "      <td>FBI Russia probe helped by Australian diplomat...</td>\n",
       "      <td>WASHINGTON (Reuters) - Trump campaign adviser ...</td>\n",
       "      <td>politicsNews</td>\n",
       "      <td>December 30, 2017</td>\n",
       "    </tr>\n",
       "    <tr>\n",
       "      <th>4</th>\n",
       "      <td>Trump wants Postal Service to charge 'much mor...</td>\n",
       "      <td>SEATTLE/WASHINGTON (Reuters) - President Donal...</td>\n",
       "      <td>politicsNews</td>\n",
       "      <td>December 29, 2017</td>\n",
       "    </tr>\n",
       "  </tbody>\n",
       "</table>\n",
       "</div>"
      ],
      "text/plain": [
       "                                               title  \\\n",
       "0  As U.S. budget fight looms, Republicans flip t...   \n",
       "1  U.S. military to accept transgender recruits o...   \n",
       "2  Senior U.S. Republican senator: 'Let Mr. Muell...   \n",
       "3  FBI Russia probe helped by Australian diplomat...   \n",
       "4  Trump wants Postal Service to charge 'much mor...   \n",
       "\n",
       "                                                text       subject  \\\n",
       "0  WASHINGTON (Reuters) - The head of a conservat...  politicsNews   \n",
       "1  WASHINGTON (Reuters) - Transgender people will...  politicsNews   \n",
       "2  WASHINGTON (Reuters) - The special counsel inv...  politicsNews   \n",
       "3  WASHINGTON (Reuters) - Trump campaign adviser ...  politicsNews   \n",
       "4  SEATTLE/WASHINGTON (Reuters) - President Donal...  politicsNews   \n",
       "\n",
       "                 date  \n",
       "0  December 31, 2017   \n",
       "1  December 29, 2017   \n",
       "2  December 31, 2017   \n",
       "3  December 30, 2017   \n",
       "4  December 29, 2017   "
      ]
     },
     "execution_count": 2,
     "metadata": {},
     "output_type": "execute_result"
    }
   ],
   "source": [
    "true = pd.read_csv('True.csv')\n",
    "true.head()"
   ]
  },
  {
   "cell_type": "code",
   "execution_count": 3,
   "id": "bf8b614f",
   "metadata": {
    "execution": {
     "iopub.execute_input": "2021-07-18T18:57:58.523745Z",
     "iopub.status.busy": "2021-07-18T18:57:58.523160Z",
     "iopub.status.idle": "2021-07-18T18:57:59.879622Z",
     "shell.execute_reply": "2021-07-18T18:57:59.880339Z",
     "shell.execute_reply.started": "2021-07-18T18:49:18.221185Z"
    },
    "papermill": {
     "duration": 1.382466,
     "end_time": "2021-07-18T18:57:59.880501",
     "exception": false,
     "start_time": "2021-07-18T18:57:58.498035",
     "status": "completed"
    },
    "tags": []
   },
   "outputs": [
    {
     "data": {
      "text/html": [
       "<div>\n",
       "<style scoped>\n",
       "    .dataframe tbody tr th:only-of-type {\n",
       "        vertical-align: middle;\n",
       "    }\n",
       "\n",
       "    .dataframe tbody tr th {\n",
       "        vertical-align: top;\n",
       "    }\n",
       "\n",
       "    .dataframe thead th {\n",
       "        text-align: right;\n",
       "    }\n",
       "</style>\n",
       "<table border=\"1\" class=\"dataframe\">\n",
       "  <thead>\n",
       "    <tr style=\"text-align: right;\">\n",
       "      <th></th>\n",
       "      <th>title</th>\n",
       "      <th>text</th>\n",
       "      <th>subject</th>\n",
       "      <th>date</th>\n",
       "    </tr>\n",
       "  </thead>\n",
       "  <tbody>\n",
       "    <tr>\n",
       "      <th>0</th>\n",
       "      <td>Donald Trump Sends Out Embarrassing New Year’...</td>\n",
       "      <td>Donald Trump just couldn t wish all Americans ...</td>\n",
       "      <td>News</td>\n",
       "      <td>December 31, 2017</td>\n",
       "    </tr>\n",
       "    <tr>\n",
       "      <th>1</th>\n",
       "      <td>Drunk Bragging Trump Staffer Started Russian ...</td>\n",
       "      <td>House Intelligence Committee Chairman Devin Nu...</td>\n",
       "      <td>News</td>\n",
       "      <td>December 31, 2017</td>\n",
       "    </tr>\n",
       "    <tr>\n",
       "      <th>2</th>\n",
       "      <td>Sheriff David Clarke Becomes An Internet Joke...</td>\n",
       "      <td>On Friday, it was revealed that former Milwauk...</td>\n",
       "      <td>News</td>\n",
       "      <td>December 30, 2017</td>\n",
       "    </tr>\n",
       "    <tr>\n",
       "      <th>3</th>\n",
       "      <td>Trump Is So Obsessed He Even Has Obama’s Name...</td>\n",
       "      <td>On Christmas day, Donald Trump announced that ...</td>\n",
       "      <td>News</td>\n",
       "      <td>December 29, 2017</td>\n",
       "    </tr>\n",
       "    <tr>\n",
       "      <th>4</th>\n",
       "      <td>Pope Francis Just Called Out Donald Trump Dur...</td>\n",
       "      <td>Pope Francis used his annual Christmas Day mes...</td>\n",
       "      <td>News</td>\n",
       "      <td>December 25, 2017</td>\n",
       "    </tr>\n",
       "  </tbody>\n",
       "</table>\n",
       "</div>"
      ],
      "text/plain": [
       "                                               title  \\\n",
       "0   Donald Trump Sends Out Embarrassing New Year’...   \n",
       "1   Drunk Bragging Trump Staffer Started Russian ...   \n",
       "2   Sheriff David Clarke Becomes An Internet Joke...   \n",
       "3   Trump Is So Obsessed He Even Has Obama’s Name...   \n",
       "4   Pope Francis Just Called Out Donald Trump Dur...   \n",
       "\n",
       "                                                text subject  \\\n",
       "0  Donald Trump just couldn t wish all Americans ...    News   \n",
       "1  House Intelligence Committee Chairman Devin Nu...    News   \n",
       "2  On Friday, it was revealed that former Milwauk...    News   \n",
       "3  On Christmas day, Donald Trump announced that ...    News   \n",
       "4  Pope Francis used his annual Christmas Day mes...    News   \n",
       "\n",
       "                date  \n",
       "0  December 31, 2017  \n",
       "1  December 31, 2017  \n",
       "2  December 30, 2017  \n",
       "3  December 29, 2017  \n",
       "4  December 25, 2017  "
      ]
     },
     "execution_count": 3,
     "metadata": {},
     "output_type": "execute_result"
    }
   ],
   "source": [
    "fake = pd.read_csv('Fake.csv')\n",
    "fake.head()"
   ]
  },
  {
   "cell_type": "code",
   "execution_count": 4,
   "id": "08759b2a",
   "metadata": {
    "execution": {
     "iopub.execute_input": "2021-07-18T18:57:59.975550Z",
     "iopub.status.busy": "2021-07-18T18:57:59.970658Z",
     "iopub.status.idle": "2021-07-18T18:57:59.978261Z",
     "shell.execute_reply": "2021-07-18T18:57:59.978679Z",
     "shell.execute_reply.started": "2021-07-18T18:49:18.842526Z"
    },
    "papermill": {
     "duration": 0.035193,
     "end_time": "2021-07-18T18:57:59.978846",
     "exception": false,
     "start_time": "2021-07-18T18:57:59.943653",
     "status": "completed"
    },
    "tags": []
   },
   "outputs": [
    {
     "data": {
      "text/plain": [
       "(44898, 5)"
      ]
     },
     "execution_count": 4,
     "metadata": {},
     "output_type": "execute_result"
    }
   ],
   "source": [
    "true['truth'] = 1\n",
    "fake['truth'] = 0\n",
    "df = pd.concat([true, fake], axis=0, ignore_index=True)\n",
    "df.shape"
   ]
  },
  {
   "cell_type": "code",
   "execution_count": null,
   "id": "4d36322e",
   "metadata": {
    "execution": {
     "iopub.execute_input": "2021-07-18T18:58:00.075326Z",
     "iopub.status.busy": "2021-07-18T18:58:00.074396Z",
     "iopub.status.idle": "2021-07-18T18:58:17.716017Z",
     "shell.execute_reply": "2021-07-18T18:58:17.715591Z",
     "shell.execute_reply.started": "2021-07-18T18:49:19.993521Z"
    },
    "papermill": {
     "duration": 17.67359,
     "end_time": "2021-07-18T18:58:17.716142",
     "exception": false,
     "start_time": "2021-07-18T18:58:00.042552",
     "status": "completed"
    },
    "tags": []
   },
   "outputs": [],
   "source": [
    "def clean_text(txt):\n",
    "   \n",
    "    contraction_dict = {\"ain't\": \"is not\", \"aren't\": \"are not\",\"can't\": \"cannot\", \"'cause\": \"because\", \"could've\": \"could have\", \"couldn't\": \"could not\", \"didn't\": \"did not\",  \"doesn't\": \"does not\", \"don't\": \"do not\", \"hadn't\": \"had not\", \"hasn't\": \"has not\", \"haven't\": \"have not\", \"he'd\": \"he would\",\"he'll\": \"he will\", \"he's\": \"he is\", \"how'd\": \"how did\", \"how'd'y\": \"how do you\", \"how'll\": \"how will\", \"how's\": \"how is\",  \"I'd\": \"I would\", \"I'd've\": \"I would have\", \"I'll\": \"I will\", \"I'll've\": \"I will have\",\"I'm\": \"I am\", \"I've\": \"I have\", \"i'd\": \"i would\", \"i'd've\": \"i would have\", \"i'll\": \"i will\",  \"i'll've\": \"i will have\",\"i'm\": \"i am\", \"i've\": \"i have\", \"isn't\": \"is not\", \"it'd\": \"it would\", \"it'd've\": \"it would have\", \"it'll\": \"it will\", \"it'll've\": \"it will have\",\"it's\": \"it is\", \"let's\": \"let us\", \"ma'am\": \"madam\", \"mayn't\": \"may not\", \"might've\": \"might have\",\"mightn't\": \"might not\",\"mightn't've\": \"might not have\", \"must've\": \"must have\", \"mustn't\": \"must not\", \"mustn't've\": \"must not have\", \"needn't\": \"need not\", \"needn't've\": \"need not have\",\"o'clock\": \"of the clock\", \"oughtn't\": \"ought not\", \"oughtn't've\": \"ought not have\", \"shan't\": \"shall not\", \"sha'n't\": \"shall not\", \"shan't've\": \"shall not have\", \"she'd\": \"she would\", \"she'd've\": \"she would have\", \"she'll\": \"she will\", \"she'll've\": \"she will have\", \"she's\": \"she is\", \"should've\": \"should have\", \"shouldn't\": \"should not\", \"shouldn't've\": \"should not have\", \"so've\": \"so have\",\"so's\": \"so as\", \"this's\": \"this is\",\"that'd\": \"that would\", \"that'd've\": \"that would have\", \"that's\": \"that is\", \"there'd\": \"there would\", \"there'd've\": \"there would have\", \"there's\": \"there is\", \"here's\": \"here is\",\"they'd\": \"they would\", \"they'd've\": \"they would have\", \"they'll\": \"they will\", \"they'll've\": \"they will have\", \"they're\": \"they are\", \"they've\": \"they have\", \"to've\": \"to have\", \"wasn't\": \"was not\", \"we'd\": \"we would\", \"we'd've\": \"we would have\", \"we'll\": \"we will\", \"we'll've\": \"we will have\", \"we're\": \"we are\", \"we've\": \"we have\", \"weren't\": \"were not\", \"what'll\": \"what will\", \"what'll've\": \"what will have\", \"what're\": \"what are\",  \"what's\": \"what is\", \"what've\": \"what have\", \"when's\": \"when is\", \"when've\": \"when have\", \"where'd\": \"where did\", \"where's\": \"where is\", \"where've\": \"where have\", \"who'll\": \"who will\", \"who'll've\": \"who will have\", \"who's\": \"who is\", \"who've\": \"who have\", \"why's\": \"why is\", \"why've\": \"why have\", \"will've\": \"will have\", \"won't\": \"will not\", \"won't've\": \"will not have\", \"would've\": \"would have\", \"wouldn't\": \"would not\", \"wouldn't've\": \"would not have\", \"y'all\": \"you all\", \"y'all'd\": \"you all would\",\"y'all'd've\": \"you all would have\",\"y'all're\": \"you all are\",\"y'all've\": \"you all have\",\"you'd\": \"you would\", \"you'd've\": \"you would have\", \"you'll\": \"you will\", \"you'll've\": \"you will have\", \"you're\": \"you are\", \"you've\": \"you have\"}\n",
    "    def _get_contractions(contraction_dict):\n",
    "        contraction_re = re.compile('(%s)' % '|'.join(contraction_dict.keys()))\n",
    "        return contraction_dict, contraction_re\n",
    "\n",
    "    def replace_contractions(text):\n",
    "        contractions, contractions_re = _get_contractions(contraction_dict)\n",
    "        def replace(match):\n",
    "            return contractions[match.group(0)]\n",
    "        return contractions_re.sub(replace, text)\n",
    "\n",
    "    # replace contractions\n",
    "    txt = replace_contractions(txt)\n",
    "    \n",
    "    #remove punctuations\n",
    "    txt  = \"\".join([char for char in txt if char not in string.punctuation])\n",
    "    txt = re.sub('[0-9]+', '', txt)\n",
    "    \n",
    "    # split into words\n",
    "    words = word_tokenize(txt)\n",
    "    \n",
    "    # remove stopwords\n",
    "    stop_words = set(stopwords.words('english'))\n",
    "    words = [w for w in words if not w in stop_words]\n",
    "    \n",
    "    # removing leftover punctuations\n",
    "    words = [word for word in words if word.isalpha()]\n",
    "    \n",
    "    cleaned_text = ' '.join(words)\n",
    "    return cleaned_text\n",
    "    \n",
    "df['data_cleaned'] = df['title'].apply(lambda txt: clean_text(txt))\n"
   ]
  },
  {
   "cell_type": "code",
   "execution_count": 6,
   "id": "99e1a27f",
   "metadata": {
    "execution": {
     "iopub.execute_input": "2021-07-18T18:58:17.803444Z",
     "iopub.status.busy": "2021-07-18T18:58:17.802764Z",
     "iopub.status.idle": "2021-07-18T18:58:17.834548Z",
     "shell.execute_reply": "2021-07-18T18:58:17.834082Z",
     "shell.execute_reply.started": "2021-07-18T18:49:39.257844Z"
    },
    "papermill": {
     "duration": 0.057978,
     "end_time": "2021-07-18T18:58:17.834678",
     "exception": false,
     "start_time": "2021-07-18T18:58:17.776700",
     "status": "completed"
    },
    "tags": []
   },
   "outputs": [
    {
     "name": "stdout",
     "output_type": "stream",
     "text": [
      "Max number of words in a text in training data: 227\n"
     ]
    }
   ],
   "source": [
    "xtrain, xtest, ytrain, ytest = train_test_split(df['data_cleaned'], df['truth'], shuffle=True, test_size=0.2)\n",
    "# find the length of the largest sentence in training data\n",
    "max_len = xtrain.apply(lambda x: len(x)).max()\n",
    "print(f'Max number of words in a text in training data: {max_len}')"
   ]
  },
  {
   "cell_type": "code",
   "execution_count": 7,
   "id": "a9b770ae",
   "metadata": {
    "execution": {
     "iopub.execute_input": "2021-07-18T18:58:17.943448Z",
     "iopub.status.busy": "2021-07-18T18:58:17.933251Z",
     "iopub.status.idle": "2021-07-18T18:58:19.649264Z",
     "shell.execute_reply": "2021-07-18T18:58:19.649717Z",
     "shell.execute_reply.started": "2021-07-18T18:49:48.251776Z"
    },
    "papermill": {
     "duration": 1.754982,
     "end_time": "2021-07-18T18:58:19.649875",
     "exception": false,
     "start_time": "2021-07-18T18:58:17.894893",
     "status": "completed"
    },
    "tags": []
   },
   "outputs": [],
   "source": [
    "max_words = 10000\n",
    "tokenizer = text.Tokenizer(num_words = max_words)\n",
    "# create the vocabulary by fitting on x_train text\n",
    "tokenizer.fit_on_texts(xtrain)\n",
    "# generate the sequence of tokens\n",
    "xtrain_seq = tokenizer.texts_to_sequences(xtrain)\n",
    "xtest_seq = tokenizer.texts_to_sequences(xtest)\n",
    "\n",
    "# pad the sequences\n",
    "xtrain_pad = pad_sequences(xtrain_seq, maxlen=max_len)\n",
    "xtest_pad = pad_sequences(xtest_seq, maxlen=max_len)\n",
    "word_index = tokenizer.word_index\n",
    "\n",
    "# print('Text Example:', xtrain[0])\n",
    "# print('Sequence of indices(before padding):', xtrain_seq[0])\n",
    "# print('Sequence of indices(after padding):', xtrain_pad[0])"
   ]
  },
  {
   "cell_type": "markdown",
   "id": "b31d5180",
   "metadata": {},
   "source": [
    "# Word embedding using pre-trained GloVe vectors\n"
   ]
  },
  {
   "cell_type": "code",
   "execution_count": 40,
   "id": "538c0732",
   "metadata": {
    "execution": {
     "iopub.execute_input": "2021-07-18T18:58:19.873157Z",
     "iopub.status.busy": "2021-07-18T18:58:19.872100Z",
     "iopub.status.idle": "2021-07-18T19:02:27.939468Z",
     "shell.execute_reply": "2021-07-18T19:02:27.939884Z",
     "shell.execute_reply.started": "2021-07-18T18:49:55.444934Z"
    },
    "papermill": {
     "duration": 248.110716,
     "end_time": "2021-07-18T19:02:27.940036",
     "exception": false,
     "start_time": "2021-07-18T18:58:19.829320",
     "status": "completed"
    },
    "tags": []
   },
   "outputs": [
    {
     "name": "stdout",
     "output_type": "stream",
     "text": [
      "Size of vocabulary in GloVe: 1193514\n"
     ]
    }
   ],
   "source": [
    "embedding_vectors = {}\n",
    "with open('glove.twitter.27B.100d.txt','r',encoding='utf-8') as file:\n",
    "    for row in file:\n",
    "        values = row.split(' ')\n",
    "        word = values[0]\n",
    "        weights = np.asarray([float(val) for val in values[1:]])\n",
    "        embedding_vectors[word] = weights\n",
    "print(f\"Size of vocabulary in GloVe: {len(embedding_vectors)}\")   \n"
   ]
  },
  {
   "cell_type": "code",
   "execution_count": 9,
   "id": "34c20613",
   "metadata": {
    "execution": {
     "iopub.execute_input": "2021-07-18T19:02:28.027424Z",
     "iopub.status.busy": "2021-07-18T19:02:28.026624Z",
     "iopub.status.idle": "2021-07-18T19:02:28.065727Z",
     "shell.execute_reply": "2021-07-18T19:02:28.066093Z",
     "shell.execute_reply.started": "2021-07-18T18:54:11.673218Z"
    },
    "papermill": {
     "duration": 0.065478,
     "end_time": "2021-07-18T19:02:28.066246",
     "exception": false,
     "start_time": "2021-07-18T19:02:28.000768",
     "status": "completed"
    },
    "scrolled": true,
    "tags": []
   },
   "outputs": [
    {
     "name": "stdout",
     "output_type": "stream",
     "text": [
      "Some out of valubulary words: ['brexit', 'antitrump', 'tillerson', 'kellyanne', 'reutersipsos']\n"
     ]
    }
   ],
   "source": [
    "#initialize the embedding_matrix with zeros\n",
    "emb_dim = 100\n",
    "if max_words is not None: \n",
    "    vocab_len = max_words \n",
    "else:\n",
    "    vocab_len = len(word_index)+1\n",
    "embedding_matrix = np.zeros((vocab_len, emb_dim))\n",
    "oov_count = 0\n",
    "oov_words = []\n",
    "for word, idx in word_index.items():\n",
    "    if idx < vocab_len:\n",
    "        embedding_vector = embedding_vectors.get(word)\n",
    "        if embedding_vector is not None:\n",
    "            embedding_matrix[idx] = embedding_vector\n",
    "        else:\n",
    "            oov_count += 1 \n",
    "            oov_words.append(word)\n",
    "\n",
    "print(f'Some out of valubulary words: {oov_words[0:5]}')"
   ]
  },
  {
   "cell_type": "code",
   "execution_count": 23,
   "id": "02c14e8e",
   "metadata": {},
   "outputs": [],
   "source": [
    "def eval_model(true_value, predict_value):\n",
    "    print(\"accuracy:  \", accuracy_score(true_value, predict_value))\n",
    "    print(\"Precision:  \", precision_score(true_value, predict_value))\n",
    "    print(\"Recall:  \", recall_score(true_value, predict_value))\n",
    "    print(\"F1 score:  \", f1_score(true_value, predict_value))"
   ]
  },
  {
   "cell_type": "code",
   "execution_count": 39,
   "id": "4fb4f58f",
   "metadata": {},
   "outputs": [
    {
     "name": "stdout",
     "output_type": "stream",
     "text": [
      "(8980, 227)\n",
      "(8980,)\n",
      "(35918, 227)\n",
      "(35918,)\n"
     ]
    }
   ],
   "source": [
    "print(xtest_pad.shape)\n",
    "print(ytest.shape)\n",
    "print(xtrain_pad.shape)\n",
    "print(ytrain.shape)"
   ]
  },
  {
   "cell_type": "markdown",
   "id": "2580271b",
   "metadata": {
    "papermill": {
     "duration": 0.020511,
     "end_time": "2021-07-18T19:02:28.197596",
     "exception": false,
     "start_time": "2021-07-18T19:02:28.177085",
     "status": "completed"
    },
    "tags": []
   },
   "source": [
    "## LSTM\n"
   ]
  },
  {
   "cell_type": "code",
   "execution_count": 10,
   "id": "7d2e5bd9",
   "metadata": {},
   "outputs": [
    {
     "data": {
      "text/plain": [
       "10000"
      ]
     },
     "execution_count": 10,
     "metadata": {},
     "output_type": "execute_result"
    }
   ],
   "source": [
    "vocab_len"
   ]
  },
  {
   "cell_type": "code",
   "execution_count": 12,
   "id": "d3fa5932",
   "metadata": {
    "execution": {
     "iopub.execute_input": "2021-07-18T19:02:28.245949Z",
     "iopub.status.busy": "2021-07-18T19:02:28.245295Z",
     "iopub.status.idle": "2021-07-18T19:02:30.475490Z",
     "shell.execute_reply": "2021-07-18T19:02:30.475050Z",
     "shell.execute_reply.started": "2021-07-18T18:54:19.943302Z"
    },
    "papermill": {
     "duration": 2.25666,
     "end_time": "2021-07-18T19:02:30.475626",
     "exception": false,
     "start_time": "2021-07-18T19:02:28.218966",
     "status": "completed"
    },
    "scrolled": true,
    "tags": []
   },
   "outputs": [
    {
     "name": "stdout",
     "output_type": "stream",
     "text": [
      "Model: \"sequential\"\n",
      "_________________________________________________________________\n",
      " Layer (type)                Output Shape              Param #   \n",
      "=================================================================\n",
      " embedding (Embedding)       (None, None, 100)         1000000   \n",
      "                                                                 \n",
      " lstm (LSTM)                 (None, None, 64)          42240     \n",
      "                                                                 \n",
      " lstm_1 (LSTM)               (None, 128)               98816     \n",
      "                                                                 \n",
      " dense (Dense)               (None, 32)                4128      \n",
      "                                                                 \n",
      " dense_1 (Dense)             (None, 1)                 33        \n",
      "                                                                 \n",
      "=================================================================\n",
      "Total params: 1,145,217\n",
      "Trainable params: 145,217\n",
      "Non-trainable params: 1,000,000\n",
      "_________________________________________________________________\n",
      "None\n"
     ]
    }
   ],
   "source": [
    "lstm_model = Sequential()\n",
    "lstm_model.add(Embedding(vocab_len, emb_dim, trainable = False, weights=[embedding_matrix]))\n",
    "lstm_model.add(LSTM(64, return_sequences=True))\n",
    "lstm_model.add(LSTM(128, return_sequences=False))\n",
    "lstm_model.add(Dense(32, activation = 'sigmoid'))\n",
    "lstm_model.add(Dense(1, activation = 'sigmoid'))\n",
    "lstm_model.compile(loss='binary_crossentropy', optimizer='adam', metrics=['accuracy'])\n",
    "print(lstm_model.summary())"
   ]
  },
  {
   "cell_type": "code",
   "execution_count": 13,
   "id": "ba0bad64",
   "metadata": {
    "execution": {
     "iopub.execute_input": "2021-07-18T19:02:30.522398Z",
     "iopub.status.busy": "2021-07-18T19:02:30.521819Z",
     "iopub.status.idle": "2021-07-18T19:03:44.374834Z",
     "shell.execute_reply": "2021-07-18T19:03:44.374291Z",
     "shell.execute_reply.started": "2021-07-18T18:54:26.353077Z"
    },
    "papermill": {
     "duration": 73.878123,
     "end_time": "2021-07-18T19:03:44.374977",
     "exception": false,
     "start_time": "2021-07-18T19:02:30.496854",
     "status": "completed"
    },
    "scrolled": true,
    "tags": []
   },
   "outputs": [
    {
     "name": "stdout",
     "output_type": "stream",
     "text": [
      "Epoch 1/10\n",
      "141/141 [==============================] - 318s 2s/step - loss: 0.1909 - accuracy: 0.9252 - val_loss: 0.1106 - val_accuracy: 0.9665\n",
      "Epoch 2/10\n",
      "141/141 [==============================] - 270s 2s/step - loss: 0.0878 - accuracy: 0.9728 - val_loss: 0.0804 - val_accuracy: 0.9742\n",
      "Epoch 3/10\n",
      "141/141 [==============================] - 315s 2s/step - loss: 0.0689 - accuracy: 0.9784 - val_loss: 0.0664 - val_accuracy: 0.9788\n",
      "Epoch 4/10\n",
      "141/141 [==============================] - 296s 2s/step - loss: 0.0552 - accuracy: 0.9822 - val_loss: 0.0573 - val_accuracy: 0.9818\n",
      "Epoch 5/10\n",
      "141/141 [==============================] - 286s 2s/step - loss: 0.0457 - accuracy: 0.9855 - val_loss: 0.0601 - val_accuracy: 0.9813\n",
      "Epoch 6/10\n",
      "141/141 [==============================] - 270s 2s/step - loss: 0.0390 - accuracy: 0.9881 - val_loss: 0.0539 - val_accuracy: 0.9833\n",
      "Epoch 7/10\n",
      "141/141 [==============================] - 280s 2s/step - loss: 0.0321 - accuracy: 0.9909 - val_loss: 0.0494 - val_accuracy: 0.9854\n",
      "Epoch 8/10\n",
      "141/141 [==============================] - 281s 2s/step - loss: 0.0269 - accuracy: 0.9926 - val_loss: 0.0505 - val_accuracy: 0.9844\n",
      "Epoch 9/10\n",
      "141/141 [==============================] - 281s 2s/step - loss: 0.0226 - accuracy: 0.9942 - val_loss: 0.0514 - val_accuracy: 0.9851\n",
      "Epoch 10/10\n",
      "141/141 [==============================] - 279s 2s/step - loss: 0.0216 - accuracy: 0.9946 - val_loss: 0.0443 - val_accuracy: 0.9882\n",
      "CPU times: total: 25min 26s\n",
      "Wall time: 47min 55s\n"
     ]
    }
   ],
   "source": [
    "batch_size = 256\n",
    "epochs  = 10\n",
    "history = lstm_model.fit(xtrain_pad, np.asarray(ytrain), validation_data=(xtest_pad, np.asarray(ytest)), batch_size = batch_size, epochs = epochs)\n"
   ]
  },
  {
   "cell_type": "code",
   "execution_count": 14,
   "id": "a10c6346",
   "metadata": {},
   "outputs": [],
   "source": [
    "lstm_model.save(\"lstm_model_isot.h5\")"
   ]
  },
  {
   "cell_type": "code",
   "execution_count": 19,
   "id": "22924566",
   "metadata": {},
   "outputs": [],
   "source": [
    "# load model\n",
    "# model = load_model('lstm_model_isot.h5')\n",
    "# # summarize model.\n",
    "# model.summary()\n"
   ]
  },
  {
   "cell_type": "code",
   "execution_count": 15,
   "id": "91e9e438",
   "metadata": {
    "execution": {
     "iopub.execute_input": "2021-07-18T19:03:45.279826Z",
     "iopub.status.busy": "2021-07-18T19:03:45.279053Z",
     "iopub.status.idle": "2021-07-18T19:03:45.475700Z",
     "shell.execute_reply": "2021-07-18T19:03:45.476327Z",
     "shell.execute_reply.started": "2021-07-18T18:55:51.979934Z"
    },
    "papermill": {
     "duration": 0.441192,
     "end_time": "2021-07-18T19:03:45.476493",
     "exception": false,
     "start_time": "2021-07-18T19:03:45.035301",
     "status": "completed"
    },
    "tags": []
   },
   "outputs": [
    {
     "data": {
      "text/plain": [
       "Text(0.5, 1.0, 'Accuracy')"
      ]
     },
     "execution_count": 15,
     "metadata": {},
     "output_type": "execute_result"
    },
    {
     "data": {
      "image/png": "[encoded data removed]",
      "text/plain": [
       "<Figure size 1500x700 with 1 Axes>"
      ]
     },
     "metadata": {},
     "output_type": "display_data"
    }
   ],
   "source": [
    "#plot accuracy\n",
    "plt.figure(figsize=(15, 7))\n",
    "plt.plot(range(epochs), history.history['accuracy'])\n",
    "plt.plot(range(epochs), history.history['val_accuracy'])\n",
    "plt.legend(['training_acc', 'validation_acc'])\n",
    "plt.title('Accuracy')"
   ]
  },
  {
   "cell_type": "code",
   "execution_count": 29,
   "id": "5517e395",
   "metadata": {
    "execution": {
     "iopub.execute_input": "2021-07-18T19:03:45.931976Z",
     "iopub.status.busy": "2021-07-18T19:03:45.931055Z",
     "iopub.status.idle": "2021-07-18T19:03:50.166937Z",
     "shell.execute_reply": "2021-07-18T19:03:50.166427Z",
     "shell.execute_reply.started": "2021-07-18T18:55:57.405246Z"
    },
    "papermill": {
     "duration": 4.467692,
     "end_time": "2021-07-18T19:03:50.167097",
     "exception": false,
     "start_time": "2021-07-18T19:03:45.699405",
     "status": "completed"
    },
    "tags": []
   },
   "outputs": [
    {
     "name": "stdout",
     "output_type": "stream",
     "text": [
      "281/281 [==============================] - 15s 54ms/step\n",
      "accuracy:   0.9881959910913141\n",
      "Precision:   0.9827021972884525\n",
      "Recall:   0.9924457034938622\n",
      "F1 score:   0.987549917782476\n"
     ]
    }
   ],
   "source": [
    "predict_y = lstm_model.predict(xtest_pad)\n",
    "eval_model(np.array(ytest).astype(int), predict_y.round())"
   ]
  },
  {
   "cell_type": "markdown",
   "id": "be339d27",
   "metadata": {
    "papermill": {
     "duration": 0.222207,
     "end_time": "2021-07-18T19:03:50.613001",
     "exception": false,
     "start_time": "2021-07-18T19:03:50.390794",
     "status": "completed"
    },
    "tags": []
   },
   "source": [
    "## GRU"
   ]
  },
  {
   "cell_type": "code",
   "execution_count": 30,
   "id": "c06dbc08",
   "metadata": {
    "execution": {
     "iopub.execute_input": "2021-07-18T19:03:51.066547Z",
     "iopub.status.busy": "2021-07-18T19:03:51.065662Z",
     "iopub.status.idle": "2021-07-18T19:03:51.333506Z",
     "shell.execute_reply": "2021-07-18T19:03:51.332577Z",
     "shell.execute_reply.started": "2021-07-18T18:56:06.897905Z"
    },
    "papermill": {
     "duration": 0.496345,
     "end_time": "2021-07-18T19:03:51.333672",
     "exception": false,
     "start_time": "2021-07-18T19:03:50.837327",
     "status": "completed"
    },
    "tags": []
   },
   "outputs": [
    {
     "name": "stdout",
     "output_type": "stream",
     "text": [
      "Model: \"sequential_1\"\n",
      "_________________________________________________________________\n",
      " Layer (type)                Output Shape              Param #   \n",
      "=================================================================\n",
      " embedding_1 (Embedding)     (None, None, 100)         1000000   \n",
      "                                                                 \n",
      " gru (GRU)                   (None, 128)               88320     \n",
      "                                                                 \n",
      " dropout (Dropout)           (None, 128)               0         \n",
      "                                                                 \n",
      " dense_2 (Dense)             (None, 1)                 129       \n",
      "                                                                 \n",
      "=================================================================\n",
      "Total params: 1,088,449\n",
      "Trainable params: 88,449\n",
      "Non-trainable params: 1,000,000\n",
      "_________________________________________________________________\n",
      "None\n"
     ]
    }
   ],
   "source": [
    "emb_dim = embedding_matrix.shape[1]\n",
    "gru_model = Sequential()\n",
    "gru_model.add(Embedding(vocab_len, emb_dim, trainable = False, weights=[embedding_matrix]))\n",
    "gru_model.add(GRU(128, return_sequences=False))\n",
    "gru_model.add(Dropout(0.5))\n",
    "gru_model.add(Dense(1, activation = 'sigmoid'))\n",
    "gru_model.compile(loss='binary_crossentropy', optimizer='adam', metrics=['accuracy'])\n",
    "print(gru_model.summary())"
   ]
  },
  {
   "cell_type": "code",
   "execution_count": 31,
   "id": "4b2ec41b",
   "metadata": {
    "execution": {
     "iopub.execute_input": "2021-07-18T19:03:51.781362Z",
     "iopub.status.busy": "2021-07-18T19:03:51.780472Z",
     "iopub.status.idle": "2021-07-18T19:04:58.910691Z",
     "shell.execute_reply": "2021-07-18T19:04:58.910159Z",
     "shell.execute_reply.started": "2021-07-18T18:56:09.868172Z"
    },
    "papermill": {
     "duration": 67.35497,
     "end_time": "2021-07-18T19:04:58.910839",
     "exception": false,
     "start_time": "2021-07-18T19:03:51.555869",
     "status": "completed"
    },
    "scrolled": true,
    "tags": []
   },
   "outputs": [
    {
     "name": "stdout",
     "output_type": "stream",
     "text": [
      "Epoch 1/10\n",
      "141/141 [==============================] - 72s 498ms/step - loss: 0.1552 - accuracy: 0.9404 - val_loss: 0.0912 - val_accuracy: 0.9698\n",
      "Epoch 2/10\n",
      "141/141 [==============================] - 99s 701ms/step - loss: 0.0809 - accuracy: 0.9731 - val_loss: 0.0740 - val_accuracy: 0.9733\n",
      "Epoch 3/10\n",
      "141/141 [==============================] - 96s 678ms/step - loss: 0.0648 - accuracy: 0.9779 - val_loss: 0.0631 - val_accuracy: 0.9776\n",
      "Epoch 4/10\n",
      "141/141 [==============================] - 94s 667ms/step - loss: 0.0538 - accuracy: 0.9817 - val_loss: 0.0531 - val_accuracy: 0.9811\n",
      "Epoch 5/10\n",
      "141/141 [==============================] - 92s 650ms/step - loss: 0.0438 - accuracy: 0.9848 - val_loss: 0.0563 - val_accuracy: 0.9808\n",
      "Epoch 6/10\n",
      "141/141 [==============================] - 90s 639ms/step - loss: 0.0360 - accuracy: 0.9870 - val_loss: 0.0466 - val_accuracy: 0.9853\n",
      "Epoch 7/10\n",
      "141/141 [==============================] - 93s 659ms/step - loss: 0.0286 - accuracy: 0.9897 - val_loss: 0.0429 - val_accuracy: 0.9866\n",
      "Epoch 8/10\n",
      "141/141 [==============================] - 93s 661ms/step - loss: 0.0258 - accuracy: 0.9916 - val_loss: 0.0449 - val_accuracy: 0.9876\n",
      "Epoch 9/10\n",
      "141/141 [==============================] - 94s 666ms/step - loss: 0.0178 - accuracy: 0.9940 - val_loss: 0.0444 - val_accuracy: 0.9856\n",
      "Epoch 10/10\n",
      "141/141 [==============================] - 92s 649ms/step - loss: 0.0153 - accuracy: 0.9953 - val_loss: 0.0400 - val_accuracy: 0.9888\n"
     ]
    }
   ],
   "source": [
    "batch_size = 256\n",
    "epochs  = 10\n",
    "history = gru_model.fit(xtrain_pad, np.asarray(ytrain), validation_data=(xtest_pad, np.asarray(ytest)), batch_size = batch_size, epochs = epochs)\n"
   ]
  },
  {
   "cell_type": "code",
   "execution_count": 32,
   "id": "43cc6f08",
   "metadata": {},
   "outputs": [],
   "source": [
    "gru_model.save(\"gru_model_isot.h5\")"
   ]
  },
  {
   "cell_type": "code",
   "execution_count": 33,
   "id": "8f867784",
   "metadata": {
    "execution": {
     "iopub.execute_input": "2021-07-18T19:05:00.662750Z",
     "iopub.status.busy": "2021-07-18T19:05:00.649522Z",
     "iopub.status.idle": "2021-07-18T19:05:00.830910Z",
     "shell.execute_reply": "2021-07-18T19:05:00.831394Z",
     "shell.execute_reply.started": "2021-07-18T18:57:20.794628Z"
    },
    "papermill": {
     "duration": 0.615516,
     "end_time": "2021-07-18T19:05:00.831550",
     "exception": false,
     "start_time": "2021-07-18T19:05:00.216034",
     "status": "completed"
    },
    "tags": []
   },
   "outputs": [
    {
     "data": {
      "text/plain": [
       "Text(0.5, 1.0, 'Accuracy')"
      ]
     },
     "execution_count": 33,
     "metadata": {},
     "output_type": "execute_result"
    },
    {
     "data": {
      "image/png": "[encoded data removed]",
      "text/plain": [
       "<Figure size 1500x700 with 1 Axes>"
      ]
     },
     "metadata": {},
     "output_type": "display_data"
    }
   ],
   "source": [
    "#plot accuracy\n",
    "plt.figure(figsize=(15, 7))\n",
    "plt.plot(range(epochs), history.history['accuracy'])\n",
    "plt.plot(range(epochs), history.history['val_accuracy'])\n",
    "plt.legend(['training_acc', 'validation_acc'])\n",
    "plt.title('Accuracy')"
   ]
  },
  {
   "cell_type": "code",
   "execution_count": 34,
   "id": "1abc261e",
   "metadata": {},
   "outputs": [
    {
     "name": "stdout",
     "output_type": "stream",
     "text": [
      "281/281 [==============================] - 8s 26ms/step\n",
      "accuracy:   0.9887527839643653\n",
      "Precision:   0.9868142218036261\n",
      "Recall:   0.9893767705382436\n",
      "F1 score:   0.98809383472828\n"
     ]
    }
   ],
   "source": [
    "predict_y = gru_model.predict(xtest_pad)\n",
    "eval_model(np.array(ytest).astype(int), predict_y.round())"
   ]
  },
  {
   "cell_type": "markdown",
   "id": "20a7a975",
   "metadata": {},
   "source": [
    "## CNN"
   ]
  },
  {
   "cell_type": "code",
   "execution_count": 35,
   "id": "44c2f884",
   "metadata": {},
   "outputs": [
    {
     "name": "stdout",
     "output_type": "stream",
     "text": [
      "Model: \"sequential_2\"\n",
      "_________________________________________________________________\n",
      " Layer (type)                Output Shape              Param #   \n",
      "=================================================================\n",
      " embedding_2 (Embedding)     (None, None, 100)         1000000   \n",
      "                                                                 \n",
      " dropout_1 (Dropout)         (None, None, 100)         0         \n",
      "                                                                 \n",
      " conv1d (Conv1D)             (None, None, 128)         51328     \n",
      "                                                                 \n",
      " global_max_pooling1d (Globa  (None, 128)              0         \n",
      " lMaxPooling1D)                                                  \n",
      "                                                                 \n",
      " dropout_2 (Dropout)         (None, 128)               0         \n",
      "                                                                 \n",
      " dense_3 (Dense)             (None, 128)               16512     \n",
      "                                                                 \n",
      " dense_4 (Dense)             (None, 1)                 129       \n",
      "                                                                 \n",
      "=================================================================\n",
      "Total params: 1,067,969\n",
      "Trainable params: 67,969\n",
      "Non-trainable params: 1,000,000\n",
      "_________________________________________________________________\n",
      "None\n"
     ]
    }
   ],
   "source": [
    "emb_dim = embedding_matrix.shape[1]\n",
    "cnn_model = Sequential()\n",
    "cnn_model.add(Embedding(vocab_len, emb_dim, trainable = False, weights=[embedding_matrix]))\n",
    "cnn_model.add(Dropout(0.2))\n",
    "cnn_model.add(Conv1D(128 , kernel_size=4))\n",
    "cnn_model.add(GlobalMaxPool1D())\n",
    "cnn_model.add(Dropout(0.2))\n",
    "cnn_model.add(Dense(128, activation = 'sigmoid'))\n",
    "cnn_model.add(Dense(1, activation = 'sigmoid'))\n",
    "cnn_model.compile(loss='binary_crossentropy', optimizer='adam', metrics=['accuracy'])\n",
    "print(cnn_model.summary())"
   ]
  },
  {
   "cell_type": "code",
   "execution_count": 36,
   "id": "92c6732c",
   "metadata": {},
   "outputs": [
    {
     "name": "stdout",
     "output_type": "stream",
     "text": [
      "Epoch 1/10\n",
      "141/141 [==============================] - 15s 102ms/step - loss: 0.2126 - accuracy: 0.9213 - val_loss: 0.1044 - val_accuracy: 0.9657\n",
      "Epoch 2/10\n",
      "141/141 [==============================] - 15s 104ms/step - loss: 0.1024 - accuracy: 0.9636 - val_loss: 0.0813 - val_accuracy: 0.9720\n",
      "Epoch 3/10\n",
      "141/141 [==============================] - 24s 167ms/step - loss: 0.0834 - accuracy: 0.9708 - val_loss: 0.0704 - val_accuracy: 0.9755\n",
      "Epoch 4/10\n",
      "141/141 [==============================] - 16s 115ms/step - loss: 0.0688 - accuracy: 0.9759 - val_loss: 0.0718 - val_accuracy: 0.9747\n",
      "Epoch 5/10\n",
      "141/141 [==============================] - 15s 107ms/step - loss: 0.0595 - accuracy: 0.9793 - val_loss: 0.0543 - val_accuracy: 0.9797\n",
      "Epoch 6/10\n",
      "141/141 [==============================] - 14s 103ms/step - loss: 0.0495 - accuracy: 0.9829 - val_loss: 0.0591 - val_accuracy: 0.9784\n",
      "Epoch 7/10\n",
      "141/141 [==============================] - 14s 103ms/step - loss: 0.0447 - accuracy: 0.9842 - val_loss: 0.0557 - val_accuracy: 0.9801\n",
      "Epoch 8/10\n",
      "141/141 [==============================] - 14s 102ms/step - loss: 0.0377 - accuracy: 0.9871 - val_loss: 0.0497 - val_accuracy: 0.9824\n",
      "Epoch 9/10\n",
      "141/141 [==============================] - 14s 103ms/step - loss: 0.0363 - accuracy: 0.9873 - val_loss: 0.0472 - val_accuracy: 0.9843\n",
      "Epoch 10/10\n",
      "141/141 [==============================] - 15s 103ms/step - loss: 0.0328 - accuracy: 0.9889 - val_loss: 0.0492 - val_accuracy: 0.9834\n"
     ]
    }
   ],
   "source": [
    "batch_size = 256\n",
    "epochs  = 10\n",
    "history = cnn_model.fit(xtrain_pad, np.asarray(ytrain), validation_data=(xtest_pad, np.asarray(ytest)), batch_size = batch_size, epochs = epochs)\n"
   ]
  },
  {
   "cell_type": "code",
   "execution_count": 37,
   "id": "2842f502",
   "metadata": {},
   "outputs": [],
   "source": [
    "cnn_model.save(\"cnn_model_isot.h5\")"
   ]
  },
  {
   "cell_type": "code",
   "execution_count": 41,
   "id": "c5b6594e",
   "metadata": {},
   "outputs": [
    {
     "data": {
      "text/plain": [
       "Text(0.5, 1.0, 'Accuracy')"
      ]
     },
     "execution_count": 41,
     "metadata": {},
     "output_type": "execute_result"
    },
    {
     "data": {
      "image/png": "[encoded data removed]",
      "text/plain": [
       "<Figure size 1500x700 with 1 Axes>"
      ]
     },
     "metadata": {},
     "output_type": "display_data"
    }
   ],
   "source": [
    "#plot accuracy\n",
    "plt.figure(figsize=(15, 7))\n",
    "plt.plot(range(epochs), history.history['accuracy'])\n",
    "plt.plot(range(epochs), history.history['val_accuracy'])\n",
    "plt.legend(['training_acc', 'validation_acc'])\n",
    "plt.title('Accuracy')"
   ]
  },
  {
   "cell_type": "code",
   "execution_count": 38,
   "id": "60b1f007",
   "metadata": {},
   "outputs": [
    {
     "name": "stdout",
     "output_type": "stream",
     "text": [
      "281/281 [==============================] - 1s 5ms/step\n",
      "accuracy:   0.9834075723830735\n",
      "Precision:   0.971830985915493\n",
      "Recall:   0.9936260623229461\n",
      "F1 score:   0.9826076806349947\n"
     ]
    }
   ],
   "source": [
    "predict_y = cnn_model.predict(xtest_pad)\n",
    "eval_model(np.array(ytest).astype(int), predict_y.round())"
   ]
  }
 ],
 "metadata": {
  "kernelspec": {
   "display_name": "Python 3",
   "language": "python",
   "name": "python3"
  },
  "language_info": {
   "codemirror_mode": {
    "name": "ipython",
    "version": 3
   },
   "file_extension": ".py",
   "mimetype": "text/x-python",
   "name": "python",
   "nbconvert_exporter": "python",
   "pygments_lexer": "ipython3",
   "version": "3.10.6"
  },
  "papermill": {
   "default_parameters": {},
   "duration": 444.863566,
   "end_time": "2021-07-18T19:05:09.381678",
   "environment_variables": {},
   "exception": null,
   "input_path": "__notebook__.ipynb",
   "output_path": "__notebook__.ipynb",
   "parameters": {},
   "start_time": "2021-07-18T18:57:44.518112",
   "version": "2.3.3"
  }
 },
 "nbformat": 4,
 "nbformat_minor": 5
}
