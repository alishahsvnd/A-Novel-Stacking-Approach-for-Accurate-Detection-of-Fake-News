{
 "cells": [
  {
   "cell_type": "code",
   "execution_count": 15,
   "metadata": {},
   "outputs": [],
   "source": [
    "import pandas as pd \n",
    "from sklearn import preprocessing\n",
    "import re\n",
    "import numpy as np\n",
    "from sklearn.metrics import f1_score, precision_score, recall_score, accuracy_score\n",
    "from sklearn.linear_model import LogisticRegression\n",
    "import nltk\n",
    "from nltk.corpus import stopwords\n",
    "from nltk.tokenize import RegexpTokenizer\n",
    "from nltk.tokenize import word_tokenize\n",
    "from sklearn.feature_extraction.text import TfidfVectorizer\n",
    "from sklearn.model_selection import train_test_split\n",
    "\n",
    "from sklearn.pipeline import make_pipeline\n",
    "from sklearn.preprocessing import StandardScaler\n",
    "from sklearn.svm import SVC\n",
    "import pickle\n",
    "\n",
    "from sklearn.tree import DecisionTreeClassifier\n",
    "from sklearn.ensemble import RandomForestClassifier\n",
    "from sklearn.neighbors import KNeighborsClassifier"
   ]
  },
  {
   "cell_type": "code",
   "execution_count": 3,
   "metadata": {},
   "outputs": [
    {
     "name": "stderr",
     "output_type": "stream",
     "text": [
      "[nltk_data] Downloading package stopwords to\n",
      "[nltk_data]     C:\\Users\\ALI\\AppData\\Roaming\\nltk_data...\n",
      "[nltk_data]   Package stopwords is already up-to-date!\n"
     ]
    }
   ],
   "source": [
    "tokenizer = RegexpTokenizer(r'\\w+')\n",
    " \n",
    "nltk.download('stopwords')\n",
    "stopwords_list = stopwords.words('english')\n"
   ]
  },
  {
   "cell_type": "markdown",
   "metadata": {},
   "source": [
    "#### KDNugget Dataset Loader"
   ]
  },
  {
   "cell_type": "code",
   "execution_count": 4,
   "metadata": {},
   "outputs": [],
   "source": [
    "kdnugget_dataset = pd.read_csv(\"fake_and_real_news_dataset.csv\")\n",
    "kdnugget_dataset[\"Title with text\"] = kdnugget_dataset.apply(lambda x: x[\"title\"] +  x[\"text\"] if type(x[\"title\"]) != float else x[\"text\"]  , axis=1) \n",
    "kdnugget_dataset = kdnugget_dataset.to_numpy()\n",
    "kdnugget_y = kdnugget_dataset[:, 3]\n",
    "le = preprocessing.LabelEncoder()\n",
    "le.fit([\"REAL\", \"FAKE\"])\n",
    "kdnugget_y = le.transform(kdnugget_y)\n",
    "kdnugget_X = kdnugget_dataset[:, 4]\n",
    "kdnugget_X_postp = []\n",
    "for i in range(kdnugget_X.shape[0]):\n",
    "    sentence = kdnugget_X[i]\n",
    "    sentence = re.sub(r'[^a-zA-Z ]', '', sentence)\n",
    "    for stop_word in stopwords_list:\n",
    "        sentence = sentence.replace(\" \" + stop_word + \" \", \" \")\n",
    "\n",
    "    kdnugget_X_postp.append(sentence)\n",
    "kdnugget_X = kdnugget_X_postp "
   ]
  },
  {
   "cell_type": "markdown",
   "metadata": {},
   "source": [
    "#### ISOT Dataset Loader"
   ]
  },
  {
   "cell_type": "code",
   "execution_count": 6,
   "metadata": {},
   "outputs": [],
   "source": [
    "fake_isot_dataset = pd.read_csv(\"Fake.csv\")\n",
    "real_isot_dataset = pd.read_csv(\"True.csv\")\n",
    "fake_isot_dataset['Label'] =  0\n",
    "real_isot_dataset['Label'] =  1\n",
    "\n",
    "\n",
    "isot_dataset = pd.concat([fake_isot_dataset, real_isot_dataset], ignore_index=True)\n",
    "isot_dataset[\"Title with text\"] = isot_dataset[\"title\"] + \" \" +  isot_dataset[\"text\"]\n",
    "isot_dataset = isot_dataset.to_numpy()\n",
    "isot_y = isot_dataset[:, 4]\n",
    "isot_X = isot_dataset[:, 5]\n",
    "\n",
    "isot_X_postp = []\n",
    "for i in range(isot_X.shape[0]):\n",
    "    sentence = isot_X[i]\n",
    "    sentence = re.sub(r'[^a-zA-Z ]', '', sentence)\n",
    "    for stop_word in stopwords_list:\n",
    "        sentence = sentence.replace(\" \" + stop_word + \" \", \" \")\n",
    "\n",
    "    isot_X_postp.append(sentence)\n",
    "isot_X = isot_X_postp "
   ]
  },
  {
   "cell_type": "code",
   "execution_count": 7,
   "metadata": {},
   "outputs": [],
   "source": [
    "vectorizer = TfidfVectorizer()\n",
    "isot_X_tfidf = vectorizer.fit_transform(isot_X)\n",
    "vectorizer = TfidfVectorizer(use_idf=False)\n",
    "isot_X_tf = vectorizer.fit_transform(isot_X)\n",
    "vectorizer = TfidfVectorizer()\n",
    "kdnugget_X_tfidf = vectorizer.fit_transform(kdnugget_X)\n",
    "vectorizer = TfidfVectorizer(use_idf=False)\n",
    "kdnugget_X_tf = vectorizer.fit_transform(kdnugget_X)\n"
   ]
  },
  {
   "cell_type": "code",
   "execution_count": 8,
   "metadata": {},
   "outputs": [],
   "source": [
    "isot_X_train, isot_X_test, isot_y_train, isot_y_test = train_test_split(isot_X_tfidf, isot_y, test_size=0.2, shuffle=True)\n",
    "kdnugget_X_train, kdnugget_X_test, kdnugget_y_train, kdnugget_y_test = train_test_split(kdnugget_X_tfidf, kdnugget_y, test_size=0.2, shuffle=True)\n",
    "\n",
    "# print(isot_X_train)"
   ]
  },
  {
   "cell_type": "code",
   "execution_count": 13,
   "metadata": {},
   "outputs": [],
   "source": [
    "def eval_model(true_value, predict_value):\n",
    "    print(\"accuracy:  \", accuracy_score(true_value, predict_value))\n",
    "    print(\"Precision:  \", precision_score(true_value, predict_value))\n",
    "    print(\"Recall:  \", recall_score(true_value, predict_value))\n",
    "    print(\"F1 score:  \", f1_score(true_value, predict_value))\n"
   ]
  },
  {
   "cell_type": "markdown",
   "metadata": {},
   "source": [
    "## LogisticRegression\n",
    "##### isot"
   ]
  },
  {
   "cell_type": "code",
   "execution_count": 16,
   "metadata": {},
   "outputs": [
    {
     "name": "stdout",
     "output_type": "stream",
     "text": [
      "accuracy:   0.9920935412026726\n",
      "Precision:   0.9906629318394025\n",
      "Recall:   0.9927485380116959\n",
      "F1 score:   0.9917046383923356\n"
     ]
    }
   ],
   "source": [
    "log_model = LogisticRegression(random_state=0).fit(isot_X_train, np.array(isot_y_train).astype(int))\n",
    "predict_y = log_model.predict(isot_X_test)\n",
    "eval_model(np.array(isot_y_test).astype(int), predict_y)"
   ]
  },
  {
   "cell_type": "markdown",
   "metadata": {},
   "source": [
    "##### KDnugget"
   ]
  },
  {
   "cell_type": "code",
   "execution_count": 36,
   "metadata": {},
   "outputs": [
    {
     "name": "stdout",
     "output_type": "stream",
     "text": [
      "accuracy:   0.9314472252448314\n",
      "Precision:   0.9478260869565217\n",
      "Recall:   0.9178947368421052\n",
      "F1 score:   0.932620320855615\n"
     ]
    }
   ],
   "source": [
    "log_model_kd = LogisticRegression(C=10).fit(kdnugget_X_train, np.array(kdnugget_y_train).astype(int))\n",
    "predict_y = log_model_kd.predict(kdnugget_X_test)\n",
    "eval_model(np.array(kdnugget_y_test).astype(int), predict_y)"
   ]
  },
  {
   "cell_type": "code",
   "execution_count": 37,
   "metadata": {},
   "outputs": [],
   "source": [
    "pickle.dump(log_model, file = open(\"log_model_isot.pickle\", \"wb\"))\n",
    "pickle.dump(log_model_kd, file = open(\"log_model_kdnugget.pickle\", \"wb\"))"
   ]
  },
  {
   "cell_type": "markdown",
   "metadata": {},
   "source": [
    "## SVM\n",
    "##### isot"
   ]
  },
  {
   "cell_type": "code",
   "execution_count": 9,
   "metadata": {},
   "outputs": [
    {
     "name": "stdout",
     "output_type": "stream",
     "text": [
      "accuracy:   0.9962138084632517\n",
      "Precision:   0.9948658109684948\n",
      "Recall:   0.9971929824561403\n",
      "F1 score:   0.9960280373831776\n"
     ]
    }
   ],
   "source": [
    "svm_clf = SVC(C=1)\n",
    "svm_clf.fit(isot_X_train, np.array(isot_y_train).astype(int))\n",
    "predict_y = svm_clf.predict(isot_X_test)\n",
    "eval_model(np.array(isot_y_test).astype(int), predict_y)\n"
   ]
  },
  {
   "cell_type": "markdown",
   "metadata": {},
   "source": [
    "##### KDnugget"
   ]
  },
  {
   "cell_type": "code",
   "execution_count": 19,
   "metadata": {},
   "outputs": [
    {
     "name": "stdout",
     "output_type": "stream",
     "text": [
      "accuracy:   0.9281828073993471\n",
      "Precision:   0.9534368070953437\n",
      "Recall:   0.9052631578947369\n",
      "F1 score:   0.9287257019438445\n"
     ]
    }
   ],
   "source": [
    "svm_clf_kdnugget = SVC(C=1)\n",
    "svm_clf_kdnugget.fit(kdnugget_X_train, np.array(kdnugget_y_train).astype(int))\n",
    "predict_y = svm_clf_kdnugget.predict(kdnugget_X_test)\n",
    "eval_model(np.array(kdnugget_y_test).astype(int), predict_y)"
   ]
  },
  {
   "cell_type": "code",
   "execution_count": 20,
   "metadata": {},
   "outputs": [],
   "source": [
    "pickle.dump(svm_clf, file = open(\"svm_clf_isot.pickle\", \"wb\"))\n",
    "pickle.dump(svm_clf_kdnugget, file = open(\"svm_clf_kdnugget.pickle\", \"wb\"))\n",
    "    "
   ]
  },
  {
   "cell_type": "markdown",
   "metadata": {},
   "source": [
    "## Decision Tree\n",
    "##### isot"
   ]
  },
  {
   "cell_type": "code",
   "execution_count": 21,
   "metadata": {},
   "outputs": [
    {
     "name": "stdout",
     "output_type": "stream",
     "text": [
      "accuracy:   0.9955456570155902\n",
      "Precision:   0.9928994082840237\n",
      "Recall:   0.9976218787158145\n",
      "F1 score:   0.9952550415183867\n"
     ]
    }
   ],
   "source": [
    "dt_clf = DecisionTreeClassifier(max_depth=5)\n",
    "dt_clf.fit(isot_X_train, np.array(isot_y_train).astype(np.int16))\n",
    "predict_y = dt_clf.predict(isot_X_test)\n",
    "eval_model(np.array(isot_y_test).astype(int), predict_y)\n"
   ]
  },
  {
   "cell_type": "markdown",
   "metadata": {},
   "source": [
    "##### KDnugget"
   ]
  },
  {
   "cell_type": "code",
   "execution_count": 22,
   "metadata": {},
   "outputs": [
    {
     "name": "stdout",
     "output_type": "stream",
     "text": [
      "accuracy:   0.7997823721436343\n",
      "Precision:   0.8142548596112311\n",
      "Recall:   0.7936842105263158\n",
      "F1 score:   0.8038379530916845\n"
     ]
    }
   ],
   "source": [
    "dt_clf_kdnugget = DecisionTreeClassifier(max_depth=5)\n",
    "dt_clf_kdnugget.fit(kdnugget_X_train, np.array(kdnugget_y_train).astype(np.int16))\n",
    "predict_y = dt_clf_kdnugget.predict(kdnugget_X_test)\n",
    "eval_model(np.array(kdnugget_y_test).astype(int), predict_y)\n"
   ]
  },
  {
   "cell_type": "code",
   "execution_count": 23,
   "metadata": {},
   "outputs": [],
   "source": [
    "pickle.dump(dt_clf, file = open(\"dt_clf_isot.pickle\", \"wb\"))\n",
    "pickle.dump(dt_clf_kdnugget, file = open(\"dt_clf_kdnugget.pickle\", \"wb\"))\n",
    "    "
   ]
  },
  {
   "cell_type": "markdown",
   "metadata": {},
   "source": [
    "## KNN\n",
    "##### isot"
   ]
  },
  {
   "cell_type": "code",
   "execution_count": 24,
   "metadata": {},
   "outputs": [
    {
     "name": "stdout",
     "output_type": "stream",
     "text": [
      "accuracy:   0.8857461024498886\n",
      "Precision:   0.8287487073422958\n",
      "Recall:   0.9529131985731273\n",
      "F1 score:   0.8865044247787611\n"
     ]
    }
   ],
   "source": [
    "knn = KNeighborsClassifier(n_neighbors=9)\n",
    "knn.fit(isot_X_train, np.array(isot_y_train).astype(int))\n",
    "predict_y = knn.predict(isot_X_test)\n",
    "eval_model(np.array(isot_y_test).astype(int), predict_y)\n"
   ]
  },
  {
   "cell_type": "markdown",
   "metadata": {},
   "source": [
    "##### KDnugget"
   ]
  },
  {
   "cell_type": "code",
   "execution_count": 25,
   "metadata": {},
   "outputs": [
    {
     "name": "stdout",
     "output_type": "stream",
     "text": [
      "accuracy:   0.8737758433079434\n",
      "Precision:   0.8380414312617702\n",
      "Recall:   0.9368421052631579\n",
      "F1 score:   0.8846918489065607\n"
     ]
    }
   ],
   "source": [
    "knn_kdnugget = KNeighborsClassifier(n_neighbors=9)\n",
    "knn_kdnugget.fit(kdnugget_X_train, np.array(kdnugget_y_train).astype(int))\n",
    "predict_y = knn_kdnugget.predict(kdnugget_X_test)\n",
    "eval_model(np.array(kdnugget_y_test).astype(int), predict_y)\n"
   ]
  },
  {
   "cell_type": "code",
   "execution_count": 26,
   "metadata": {},
   "outputs": [],
   "source": [
    "pickle.dump(knn, file = open(\"knn_isot.pickle\", \"wb\"))\n",
    "pickle.dump(knn_kdnugget, file = open(\"knn_kdnugget.pickle\", \"wb\"))\n",
    "    "
   ]
  },
  {
   "cell_type": "markdown",
   "metadata": {},
   "source": [
    "## RandomForest 1\n",
    "##### isot"
   ]
  },
  {
   "cell_type": "code",
   "execution_count": 27,
   "metadata": {},
   "outputs": [
    {
     "name": "stdout",
     "output_type": "stream",
     "text": [
      "accuracy:   0.9909799554565701\n",
      "Precision:   0.9918893129770993\n",
      "Recall:   0.9888228299643281\n",
      "F1 score:   0.9903536977491961\n"
     ]
    }
   ],
   "source": [
    "rf1_clf = RandomForestClassifier(max_depth=40, n_estimators=400).fit(isot_X_train, np.array(isot_y_train).astype(int))\n",
    "predict_y = rf1_clf.predict(isot_X_test)\n",
    "eval_model(np.array(isot_y_test).astype(int), predict_y)\n"
   ]
  },
  {
   "cell_type": "markdown",
   "metadata": {},
   "source": [
    "##### KDnugget"
   ]
  },
  {
   "cell_type": "code",
   "execution_count": 34,
   "metadata": {},
   "outputs": [
    {
     "name": "stdout",
     "output_type": "stream",
     "text": [
      "accuracy:   0.8846572361262242\n",
      "Precision:   0.9002169197396963\n",
      "Recall:   0.8736842105263158\n",
      "F1 score:   0.8867521367521368\n"
     ]
    }
   ],
   "source": [
    "rf1_clf_kdnugget = RandomForestClassifier(n_estimators=150).fit(kdnugget_X_train, np.array(kdnugget_y_train).astype(int))\n",
    "predict_y = rf1_clf_kdnugget.predict(kdnugget_X_test)\n",
    "eval_model(np.array(kdnugget_y_test).astype(int), predict_y)\n"
   ]
  },
  {
   "cell_type": "code",
   "execution_count": 35,
   "metadata": {},
   "outputs": [],
   "source": [
    "pickle.dump(rf1_clf, file = open(\"rf1_clf_isot.pickle\", \"wb\"))\n",
    "pickle.dump(rf1_clf_kdnugget, file = open(\"rf1_clf_kdnugget.pickle\", \"wb\"))\n",
    "    "
   ]
  },
  {
   "cell_type": "code",
   "execution_count": 30,
   "metadata": {},
   "outputs": [],
   "source": [
    "isot_X_train_tf, isot_X_test_tf, isot_y_train_tf, isot_y_test_tf = train_test_split(isot_X_tf, isot_y, test_size=0.2, shuffle=True)\n",
    "kdnugget_X_train_tf, kdnugget_X_test_tf, kdnugget_y_train_tf, kdnugget_y_test_tf = train_test_split(kdnugget_X_tf, kdnugget_y, test_size=0.2, shuffle=True)\n"
   ]
  },
  {
   "cell_type": "markdown",
   "metadata": {},
   "source": [
    "## RandomForest 2\n",
    "##### isot"
   ]
  },
  {
   "cell_type": "code",
   "execution_count": 31,
   "metadata": {},
   "outputs": [
    {
     "name": "stdout",
     "output_type": "stream",
     "text": [
      "accuracy:   0.9928730512249443\n",
      "Precision:   0.9948393150363594\n",
      "Recall:   0.9901937893999533\n",
      "F1 score:   0.9925111163117248\n"
     ]
    }
   ],
   "source": [
    "rf2_clf = RandomForestClassifier(max_depth=40, n_estimators=300).fit(isot_X_train_tf, np.array(isot_y_train_tf).astype(int))\n",
    "predict_y = rf2_clf.predict(isot_X_test_tf)\n",
    "eval_model(np.array(isot_y_test_tf).astype(int), predict_y)\n"
   ]
  },
  {
   "cell_type": "markdown",
   "metadata": {},
   "source": [
    "##### KDnugget"
   ]
  },
  {
   "cell_type": "code",
   "execution_count": 32,
   "metadata": {},
   "outputs": [
    {
     "name": "stdout",
     "output_type": "stream",
     "text": [
      "accuracy:   0.8955386289445049\n",
      "Precision:   0.9029345372460497\n",
      "Recall:   0.8830022075055187\n",
      "F1 score:   0.8928571428571428\n"
     ]
    }
   ],
   "source": [
    "rf2_clf_kdnugget = RandomForestClassifier(n_estimators=200).fit(kdnugget_X_train_tf, np.array(kdnugget_y_train_tf).astype(int))\n",
    "predict_y = rf2_clf_kdnugget.predict(kdnugget_X_test_tf)\n",
    "eval_model(np.array(kdnugget_y_test_tf).astype(int), predict_y)\n"
   ]
  },
  {
   "cell_type": "code",
   "execution_count": 33,
   "metadata": {},
   "outputs": [],
   "source": [
    "pickle.dump(rf2_clf, file = open(\"rf2_clf_isot.pickle\", \"wb\"))\n",
    "pickle.dump(rf2_clf_kdnugget, file = open(\"rf2_clf_kdnugget.pickle\", \"wb\"))\n",
    "        "
   ]
  }
 ],
 "metadata": {
  "kernelspec": {
   "display_name": "Python 3",
   "language": "python",
   "name": "python3"
  },
  "language_info": {
   "codemirror_mode": {
    "name": "ipython",
    "version": 3
   },
   "file_extension": ".py",
   "mimetype": "text/x-python",
   "name": "python",
   "nbconvert_exporter": "python",
   "pygments_lexer": "ipython3",
   "version": "3.10.6"
  },
  "orig_nbformat": 4
 },
 "nbformat": 4,
 "nbformat_minor": 2
}
